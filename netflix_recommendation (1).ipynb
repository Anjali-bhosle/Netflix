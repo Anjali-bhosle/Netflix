{
  "nbformat": 4,
  "nbformat_minor": 0,
  "metadata": {
    "colab": {
      "name": "netflix_recommendation",
      "provenance": [],
      "collapsed_sections": []
    },
    "kernelspec": {
      "display_name": "Python 3",
      "name": "python3"
    },
    "language_info": {
      "name": "python"
    }
  },
  "cells": [
    {
      "cell_type": "code",
      "metadata": {
        "colab": {
          "base_uri": "https://localhost:8080/"
        },
        "id": "u46jEmvkpz6z",
        "outputId": "a532a5cc-ba3d-46ef-ee5b-059d8b0fc877"
      },
      "source": [
        "from google.colab import drive\n",
        "drive.mount('/content/gdrive')"
      ],
      "execution_count": null,
      "outputs": [
        {
          "output_type": "stream",
          "text": [
            "Mounted at /content/gdrive\n"
          ],
          "name": "stdout"
        }
      ]
    },
    {
      "cell_type": "code",
      "metadata": {
        "id": "2-yjpBnTraeT"
      },
      "source": [
        "import matplotlib.pyplot as plt\n",
        "import pandas as pd\n",
        "import numpy as np\n",
        "import seaborn as sns\n",
        "from sklearn.preprocessing import LabelEncoder\n",
        "from sklearn.model_selection import train_test_split\n",
        "\n",
        "import tensorflow as tf\n",
        "from tensorflow import keras\n",
        "from keras.models import Model\n",
        "from keras.layers import Input, Reshape, Dot\n",
        "from keras.layers.embeddings import Embedding\n",
        "from keras.layers import Concatenate, Dense, Dropout\n",
        "from keras.optimizers import Adam\n",
        "from keras.regularizers import l2"
      ],
      "execution_count": null,
      "outputs": []
    },
    {
      "cell_type": "markdown",
      "metadata": {
        "id": "1so-Tm2LxM4T"
      },
      "source": [
        ""
      ]
    },
    {
      "cell_type": "code",
      "metadata": {
        "id": "MC-OtnJyLdHv"
      },
      "source": [
        "import datetime\n",
        "import os"
      ],
      "execution_count": null,
      "outputs": []
    },
    {
      "cell_type": "code",
      "metadata": {
        "colab": {
          "base_uri": "https://localhost:8080/"
        },
        "id": "f2pYbnCiLdLN",
        "outputId": "31bb0dba-241a-49f4-e899-433557ce4054"
      },
      "source": [
        "#start = datetime.now()\n",
        "\n",
        "# if os.path.isfile('data.csv'):\n",
        "#     os.remove('data.csv')\n",
        "\n",
        "if not os.path.isfile('data1.csv'):\n",
        "    # Create a file 'data.csv' before reading it\n",
        "    # Read all the files in netflix and store them in one big file('data.csv')\n",
        "    # We re reading from each of the four files and appendig each rating to a global file 'train.csv'\n",
        "    data = open('data1.csv', mode='w')\n",
        "    \n",
        "    row = list()\n",
        "    files=['../content/gdrive/MyDrive/Colab Notebooks/netflix/combined_data_1.txt','../content/gdrive/MyDrive/Colab Notebooks/netflix/combined_data_2.txt', \n",
        "           '../content/gdrive/MyDrive/Colab Notebooks/netflix/combined_data_3.txt', '../content/gdrive/MyDrive/Colab Notebooks/netflix/combined_data_4.txt']\n",
        "    for file in files:\n",
        "        print(\"Reading ratings from {}...\".format(file))\n",
        "        with open(file) as f:\n",
        "            for line in f: \n",
        "                del row[:] # you don't have to do this.\n",
        "                line = line.strip()\n",
        "                if line.endswith(':'):\n",
        "                    # All below are ratings for this movie, until another movie appears.\n",
        "                    movie_id = line.replace(':', '')\n",
        "                else:\n",
        "                    row = [x for x in line.split(',')]\n",
        "                    row.insert(0, movie_id)\n",
        "                    data.write(','.join(row))\n",
        "                    data.write('\\n')\n",
        "        print(\"Done.\\n\")\n",
        "    data.close()\n",
        "#print('Time taken :', datetime.datetime.now() - start)"
      ],
      "execution_count": null,
      "outputs": [
        {
          "output_type": "stream",
          "text": [
            "Reading ratings from ../content/gdrive/MyDrive/Colab Notebooks/netflix/combined_data_1.txt...\n",
            "Done.\n",
            "\n",
            "Reading ratings from ../content/gdrive/MyDrive/Colab Notebooks/netflix/combined_data_2.txt...\n",
            "Done.\n",
            "\n",
            "Reading ratings from ../content/gdrive/MyDrive/Colab Notebooks/netflix/combined_data_3.txt...\n",
            "Done.\n",
            "\n",
            "Reading ratings from ../content/gdrive/MyDrive/Colab Notebooks/netflix/combined_data_4.txt...\n",
            "Done.\n",
            "\n"
          ],
          "name": "stdout"
        }
      ]
    },
    {
      "cell_type": "code",
      "metadata": {
        "colab": {
          "base_uri": "https://localhost:8080/"
        },
        "id": "DO7uVB2rJrWz",
        "outputId": "0e6f584e-14d9-44cd-f390-6ff60b076b0f"
      },
      "source": [
        "print(\"creating the dataframe from data1.csv file..\")\n",
        "df = pd.read_csv('data1.csv', sep=',', names=['movie_id', 'user_id','rating','date']).sample(n=400000)\n",
        "df.date = pd.to_datetime(df.date)\n",
        "print('Done.\\n')\n",
        "\n",
        "# we are arranging the ratings according to time.\n",
        "print('Sorting the dataframe by date..')\n",
        "df.sort_values(by='date', inplace=True)\n",
        "print('Done..')"
      ],
      "execution_count": null,
      "outputs": [
        {
          "output_type": "stream",
          "text": [
            "creating the dataframe from data1.csv file..\n",
            "Done.\n",
            "\n",
            "Sorting the dataframe by date..\n",
            "Done..\n"
          ],
          "name": "stdout"
        }
      ]
    },
    {
      "cell_type": "code",
      "metadata": {
        "colab": {
          "base_uri": "https://localhost:8080/",
          "height": 204
        },
        "id": "h7S5BquUKmdP",
        "outputId": "1a850027-4e63-4391-e639-588e809412f2"
      },
      "source": [
        "df.head()"
      ],
      "execution_count": null,
      "outputs": [
        {
          "output_type": "execute_result",
          "data": {
            "text/html": [
              "<div>\n",
              "<style scoped>\n",
              "    .dataframe tbody tr th:only-of-type {\n",
              "        vertical-align: middle;\n",
              "    }\n",
              "\n",
              "    .dataframe tbody tr th {\n",
              "        vertical-align: top;\n",
              "    }\n",
              "\n",
              "    .dataframe thead th {\n",
              "        text-align: right;\n",
              "    }\n",
              "</style>\n",
              "<table border=\"1\" class=\"dataframe\">\n",
              "  <thead>\n",
              "    <tr style=\"text-align: right;\">\n",
              "      <th></th>\n",
              "      <th>movie_id</th>\n",
              "      <th>user_id</th>\n",
              "      <th>rating</th>\n",
              "      <th>date</th>\n",
              "    </tr>\n",
              "  </thead>\n",
              "  <tbody>\n",
              "    <tr>\n",
              "      <th>46313774</th>\n",
              "      <td>8327</td>\n",
              "      <td>905467</td>\n",
              "      <td>3</td>\n",
              "      <td>1999-12-28</td>\n",
              "    </tr>\n",
              "    <tr>\n",
              "      <th>50506754</th>\n",
              "      <td>9112</td>\n",
              "      <td>2226276</td>\n",
              "      <td>3</td>\n",
              "      <td>1999-12-30</td>\n",
              "    </tr>\n",
              "    <tr>\n",
              "      <th>70686823</th>\n",
              "      <td>12818</td>\n",
              "      <td>1723352</td>\n",
              "      <td>2</td>\n",
              "      <td>1999-12-30</td>\n",
              "    </tr>\n",
              "    <tr>\n",
              "      <th>81205625</th>\n",
              "      <td>14590</td>\n",
              "      <td>471064</td>\n",
              "      <td>2</td>\n",
              "      <td>1999-12-31</td>\n",
              "    </tr>\n",
              "    <tr>\n",
              "      <th>21357199</th>\n",
              "      <td>3970</td>\n",
              "      <td>472452</td>\n",
              "      <td>3</td>\n",
              "      <td>1999-12-31</td>\n",
              "    </tr>\n",
              "  </tbody>\n",
              "</table>\n",
              "</div>"
            ],
            "text/plain": [
              "          movie_id  user_id  rating       date\n",
              "46313774      8327   905467       3 1999-12-28\n",
              "50506754      9112  2226276       3 1999-12-30\n",
              "70686823     12818  1723352       2 1999-12-30\n",
              "81205625     14590   471064       2 1999-12-31\n",
              "21357199      3970   472452       3 1999-12-31"
            ]
          },
          "metadata": {
            "tags": []
          },
          "execution_count": 6
        }
      ]
    },
    {
      "cell_type": "code",
      "metadata": {
        "colab": {
          "base_uri": "https://localhost:8080/"
        },
        "id": "exHzVttQxZPW",
        "outputId": "312000a7-9b62-4e37-bbed-e3717c64e33b"
      },
      "source": [
        "df.groupby('rating')['rating'].sum()"
      ],
      "execution_count": null,
      "outputs": [
        {
          "output_type": "execute_result",
          "data": {
            "text/plain": [
              "rating\n",
              "1     18267\n",
              "2     80666\n",
              "3    343281\n",
              "4    538300\n",
              "5    461990\n",
              "Name: rating, dtype: int64"
            ]
          },
          "metadata": {
            "tags": []
          },
          "execution_count": 7
        }
      ]
    },
    {
      "cell_type": "code",
      "metadata": {
        "colab": {
          "base_uri": "https://localhost:8080/",
          "height": 235
        },
        "id": "6OKOUQkd4zk7",
        "outputId": "ac558f93-7efb-4005-a68b-cf37fe8b315d"
      },
      "source": [
        "count_nan =  df.groupby('rating')['rating'].agg(['count'])\n",
        "count_nan"
      ],
      "execution_count": null,
      "outputs": [
        {
          "output_type": "execute_result",
          "data": {
            "text/html": [
              "<div>\n",
              "<style scoped>\n",
              "    .dataframe tbody tr th:only-of-type {\n",
              "        vertical-align: middle;\n",
              "    }\n",
              "\n",
              "    .dataframe tbody tr th {\n",
              "        vertical-align: top;\n",
              "    }\n",
              "\n",
              "    .dataframe thead th {\n",
              "        text-align: right;\n",
              "    }\n",
              "</style>\n",
              "<table border=\"1\" class=\"dataframe\">\n",
              "  <thead>\n",
              "    <tr style=\"text-align: right;\">\n",
              "      <th></th>\n",
              "      <th>count</th>\n",
              "    </tr>\n",
              "    <tr>\n",
              "      <th>rating</th>\n",
              "      <th></th>\n",
              "    </tr>\n",
              "  </thead>\n",
              "  <tbody>\n",
              "    <tr>\n",
              "      <th>1</th>\n",
              "      <td>18267</td>\n",
              "    </tr>\n",
              "    <tr>\n",
              "      <th>2</th>\n",
              "      <td>40333</td>\n",
              "    </tr>\n",
              "    <tr>\n",
              "      <th>3</th>\n",
              "      <td>114427</td>\n",
              "    </tr>\n",
              "    <tr>\n",
              "      <th>4</th>\n",
              "      <td>134575</td>\n",
              "    </tr>\n",
              "    <tr>\n",
              "      <th>5</th>\n",
              "      <td>92398</td>\n",
              "    </tr>\n",
              "  </tbody>\n",
              "</table>\n",
              "</div>"
            ],
            "text/plain": [
              "         count\n",
              "rating        \n",
              "1        18267\n",
              "2        40333\n",
              "3       114427\n",
              "4       134575\n",
              "5        92398"
            ]
          },
          "metadata": {
            "tags": []
          },
          "execution_count": 8
        }
      ]
    },
    {
      "cell_type": "code",
      "metadata": {
        "colab": {
          "base_uri": "https://localhost:8080/",
          "height": 295
        },
        "id": "kMSESe0F5IrO",
        "outputId": "d1453ff4-8d70-4b99-d840-8445d7a39ae1"
      },
      "source": [
        "plt.title(\"No of null Ratings per rank\")\n",
        "sns.barplot(x = count_nan.index , y = count_nan['count'])\n",
        "plt.show()"
      ],
      "execution_count": null,
      "outputs": [
        {
          "output_type": "display_data",
          "data": {
            "image/png": "[encoded data removed]",
            "text/plain": [
              "<Figure size 432x288 with 1 Axes>"
            ]
          },
          "metadata": {
            "tags": [],
            "needs_background": "light"
          }
        }
      ]
    },
    {
      "cell_type": "code",
      "metadata": {
        "id": "nCwHBvgv9Zo1"
      },
      "source": [
        ""
      ],
      "execution_count": null,
      "outputs": []
    },
    {
      "cell_type": "code",
      "metadata": {
        "id": "GrMhQoJo5RpY"
      },
      "source": [
        "df.dropna(inplace=True)"
      ],
      "execution_count": null,
      "outputs": []
    },
    {
      "cell_type": "code",
      "metadata": {
        "id": "Izl6ki19tQMy"
      },
      "source": [
        "column_names=['movie_id','year','title']\n",
        "movie_titles = pd.read_csv(\"/content/gdrive/MyDrive/Colab Notebooks/netflix/movie_titles.csv\",sep=',', names=column_names,encoding='ISO-8859-1')\n"
      ],
      "execution_count": null,
      "outputs": []
    },
    {
      "cell_type": "code",
      "metadata": {
        "colab": {
          "base_uri": "https://localhost:8080/",
          "height": 204
        },
        "id": "CZRxVRYLCIQF",
        "outputId": "538152bb-3956-44b3-9698-87f211bf6fca"
      },
      "source": [
        "movie_titles.head()\n"
      ],
      "execution_count": null,
      "outputs": [
        {
          "output_type": "execute_result",
          "data": {
            "text/html": [
              "<div>\n",
              "<style scoped>\n",
              "    .dataframe tbody tr th:only-of-type {\n",
              "        vertical-align: middle;\n",
              "    }\n",
              "\n",
              "    .dataframe tbody tr th {\n",
              "        vertical-align: top;\n",
              "    }\n",
              "\n",
              "    .dataframe thead th {\n",
              "        text-align: right;\n",
              "    }\n",
              "</style>\n",
              "<table border=\"1\" class=\"dataframe\">\n",
              "  <thead>\n",
              "    <tr style=\"text-align: right;\">\n",
              "      <th></th>\n",
              "      <th>movie_id</th>\n",
              "      <th>year</th>\n",
              "      <th>title</th>\n",
              "    </tr>\n",
              "  </thead>\n",
              "  <tbody>\n",
              "    <tr>\n",
              "      <th>0</th>\n",
              "      <td>1</td>\n",
              "      <td>2003.0</td>\n",
              "      <td>Dinosaur Planet</td>\n",
              "    </tr>\n",
              "    <tr>\n",
              "      <th>1</th>\n",
              "      <td>2</td>\n",
              "      <td>2004.0</td>\n",
              "      <td>Isle of Man TT 2004 Review</td>\n",
              "    </tr>\n",
              "    <tr>\n",
              "      <th>2</th>\n",
              "      <td>3</td>\n",
              "      <td>1997.0</td>\n",
              "      <td>Character</td>\n",
              "    </tr>\n",
              "    <tr>\n",
              "      <th>3</th>\n",
              "      <td>4</td>\n",
              "      <td>1994.0</td>\n",
              "      <td>Paula Abdul's Get Up &amp; Dance</td>\n",
              "    </tr>\n",
              "    <tr>\n",
              "      <th>4</th>\n",
              "      <td>5</td>\n",
              "      <td>2004.0</td>\n",
              "      <td>The Rise and Fall of ECW</td>\n",
              "    </tr>\n",
              "  </tbody>\n",
              "</table>\n",
              "</div>"
            ],
            "text/plain": [
              "   movie_id    year                         title\n",
              "0         1  2003.0               Dinosaur Planet\n",
              "1         2  2004.0    Isle of Man TT 2004 Review\n",
              "2         3  1997.0                     Character\n",
              "3         4  1994.0  Paula Abdul's Get Up & Dance\n",
              "4         5  2004.0      The Rise and Fall of ECW"
            ]
          },
          "metadata": {
            "tags": []
          },
          "execution_count": 12
        }
      ]
    },
    {
      "cell_type": "code",
      "metadata": {
        "colab": {
          "base_uri": "https://localhost:8080/"
        },
        "id": "Hs-ti_Adtw23",
        "outputId": "29df1dc2-2a0c-4001-e2d3-1c4bc8bd31d9"
      },
      "source": [
        "movie_titles.isnull().sum()\n"
      ],
      "execution_count": null,
      "outputs": [
        {
          "output_type": "execute_result",
          "data": {
            "text/plain": [
              "movie_id    0\n",
              "year        7\n",
              "title       0\n",
              "dtype: int64"
            ]
          },
          "metadata": {
            "tags": []
          },
          "execution_count": 13
        }
      ]
    },
    {
      "cell_type": "code",
      "metadata": {
        "colab": {
          "base_uri": "https://localhost:8080/",
          "height": 284
        },
        "id": "FGua8Qaz5e_T",
        "outputId": "808c3ff8-b0ad-4a77-89d2-20c60985bd82"
      },
      "source": [
        "\n",
        "print(\"listing no of movies without years\")\n",
        "movie_titles[pd.isnull(movie_titles).any(axis =1 )]"
      ],
      "execution_count": null,
      "outputs": [
        {
          "output_type": "stream",
          "text": [
            "listing no of movies without years\n"
          ],
          "name": "stdout"
        },
        {
          "output_type": "execute_result",
          "data": {
            "text/html": [
              "<div>\n",
              "<style scoped>\n",
              "    .dataframe tbody tr th:only-of-type {\n",
              "        vertical-align: middle;\n",
              "    }\n",
              "\n",
              "    .dataframe tbody tr th {\n",
              "        vertical-align: top;\n",
              "    }\n",
              "\n",
              "    .dataframe thead th {\n",
              "        text-align: right;\n",
              "    }\n",
              "</style>\n",
              "<table border=\"1\" class=\"dataframe\">\n",
              "  <thead>\n",
              "    <tr style=\"text-align: right;\">\n",
              "      <th></th>\n",
              "      <th>movie_id</th>\n",
              "      <th>year</th>\n",
              "      <th>title</th>\n",
              "    </tr>\n",
              "  </thead>\n",
              "  <tbody>\n",
              "    <tr>\n",
              "      <th>4387</th>\n",
              "      <td>4388</td>\n",
              "      <td>NaN</td>\n",
              "      <td>Ancient Civilizations: Rome and Pompeii</td>\n",
              "    </tr>\n",
              "    <tr>\n",
              "      <th>4793</th>\n",
              "      <td>4794</td>\n",
              "      <td>NaN</td>\n",
              "      <td>Ancient Civilizations: Land of the Pharaohs</td>\n",
              "    </tr>\n",
              "    <tr>\n",
              "      <th>7240</th>\n",
              "      <td>7241</td>\n",
              "      <td>NaN</td>\n",
              "      <td>Ancient Civilizations: Athens and Greece</td>\n",
              "    </tr>\n",
              "    <tr>\n",
              "      <th>10781</th>\n",
              "      <td>10782</td>\n",
              "      <td>NaN</td>\n",
              "      <td>Roti Kapada Aur Makaan</td>\n",
              "    </tr>\n",
              "    <tr>\n",
              "      <th>15917</th>\n",
              "      <td>15918</td>\n",
              "      <td>NaN</td>\n",
              "      <td>Hote Hote Pyaar Ho Gaya</td>\n",
              "    </tr>\n",
              "    <tr>\n",
              "      <th>16677</th>\n",
              "      <td>16678</td>\n",
              "      <td>NaN</td>\n",
              "      <td>Jimmy Hollywood</td>\n",
              "    </tr>\n",
              "    <tr>\n",
              "      <th>17666</th>\n",
              "      <td>17667</td>\n",
              "      <td>NaN</td>\n",
              "      <td>Eros Dance Dhamaka</td>\n",
              "    </tr>\n",
              "  </tbody>\n",
              "</table>\n",
              "</div>"
            ],
            "text/plain": [
              "       movie_id  year                                        title\n",
              "4387       4388   NaN      Ancient Civilizations: Rome and Pompeii\n",
              "4793       4794   NaN  Ancient Civilizations: Land of the Pharaohs\n",
              "7240       7241   NaN     Ancient Civilizations: Athens and Greece\n",
              "10781     10782   NaN                       Roti Kapada Aur Makaan\n",
              "15917     15918   NaN                      Hote Hote Pyaar Ho Gaya\n",
              "16677     16678   NaN                              Jimmy Hollywood\n",
              "17666     17667   NaN                           Eros Dance Dhamaka"
            ]
          },
          "metadata": {
            "tags": []
          },
          "execution_count": 14
        }
      ]
    },
    {
      "cell_type": "code",
      "metadata": {
        "id": "l-X3gHod5zSv"
      },
      "source": [
        "movie_titles.at[4387,'year'] = 2001\n",
        "movie_titles.at[4793,'year'] = 2001\n",
        "movie_titles.at[7240,'year'] = 2001\n",
        "movie_titles.at[10781,'year'] = 1974\n",
        "movie_titles.at[15917,'year'] = 1999\n",
        "movie_titles.at[16677,'year'] = 1994\n",
        "movie_titles.at[17666,'year'] = 1999"
      ],
      "execution_count": null,
      "outputs": []
    },
    {
      "cell_type": "code",
      "metadata": {
        "colab": {
          "base_uri": "https://localhost:8080/"
        },
        "id": "mZcvDWZp6BSl",
        "outputId": "1c093dfb-d469-4ee8-ebcd-33d2e832a196"
      },
      "source": [
        "movie_titles.isnull().any()\n"
      ],
      "execution_count": null,
      "outputs": [
        {
          "output_type": "execute_result",
          "data": {
            "text/plain": [
              "movie_id    False\n",
              "year        False\n",
              "title       False\n",
              "dtype: bool"
            ]
          },
          "metadata": {
            "tags": []
          },
          "execution_count": 16
        }
      ]
    },
    {
      "cell_type": "code",
      "metadata": {
        "colab": {
          "base_uri": "https://localhost:8080/"
        },
        "id": "3RaxYd4D6Eqt",
        "outputId": "7146168d-6c1a-42bc-a02b-ff04ef455c45"
      },
      "source": [
        "movie_titles.dtypes\n"
      ],
      "execution_count": null,
      "outputs": [
        {
          "output_type": "execute_result",
          "data": {
            "text/plain": [
              "movie_id      int64\n",
              "year        float64\n",
              "title        object\n",
              "dtype: object"
            ]
          },
          "metadata": {
            "tags": []
          },
          "execution_count": 17
        }
      ]
    },
    {
      "cell_type": "code",
      "metadata": {
        "id": "5xVtNoHY64x3"
      },
      "source": [
        "df=df.merge(movie_titles, left_on='movie_id', right_on='movie_id')\n"
      ],
      "execution_count": null,
      "outputs": []
    },
    {
      "cell_type": "code",
      "metadata": {
        "colab": {
          "base_uri": "https://localhost:8080/",
          "height": 204
        },
        "id": "psvLi_MPULqn",
        "outputId": "2919f302-3689-42d1-9e34-5d467c96af30"
      },
      "source": [
        "df.head()"
      ],
      "execution_count": null,
      "outputs": [
        {
          "output_type": "execute_result",
          "data": {
            "text/html": [
              "<div>\n",
              "<style scoped>\n",
              "    .dataframe tbody tr th:only-of-type {\n",
              "        vertical-align: middle;\n",
              "    }\n",
              "\n",
              "    .dataframe tbody tr th {\n",
              "        vertical-align: top;\n",
              "    }\n",
              "\n",
              "    .dataframe thead th {\n",
              "        text-align: right;\n",
              "    }\n",
              "</style>\n",
              "<table border=\"1\" class=\"dataframe\">\n",
              "  <thead>\n",
              "    <tr style=\"text-align: right;\">\n",
              "      <th></th>\n",
              "      <th>movie_id</th>\n",
              "      <th>user_id</th>\n",
              "      <th>rating</th>\n",
              "      <th>date</th>\n",
              "      <th>year</th>\n",
              "      <th>title</th>\n",
              "    </tr>\n",
              "  </thead>\n",
              "  <tbody>\n",
              "    <tr>\n",
              "      <th>0</th>\n",
              "      <td>8327</td>\n",
              "      <td>905467</td>\n",
              "      <td>3</td>\n",
              "      <td>1999-12-28</td>\n",
              "      <td>1975.0</td>\n",
              "      <td>One Flew Over the Cuckoo's Nest</td>\n",
              "    </tr>\n",
              "    <tr>\n",
              "      <th>1</th>\n",
              "      <td>8327</td>\n",
              "      <td>1704412</td>\n",
              "      <td>4</td>\n",
              "      <td>2000-01-18</td>\n",
              "      <td>1975.0</td>\n",
              "      <td>One Flew Over the Cuckoo's Nest</td>\n",
              "    </tr>\n",
              "    <tr>\n",
              "      <th>2</th>\n",
              "      <td>8327</td>\n",
              "      <td>1685089</td>\n",
              "      <td>4</td>\n",
              "      <td>2000-01-25</td>\n",
              "      <td>1975.0</td>\n",
              "      <td>One Flew Over the Cuckoo's Nest</td>\n",
              "    </tr>\n",
              "    <tr>\n",
              "      <th>3</th>\n",
              "      <td>8327</td>\n",
              "      <td>2571175</td>\n",
              "      <td>5</td>\n",
              "      <td>2000-02-04</td>\n",
              "      <td>1975.0</td>\n",
              "      <td>One Flew Over the Cuckoo's Nest</td>\n",
              "    </tr>\n",
              "    <tr>\n",
              "      <th>4</th>\n",
              "      <td>8327</td>\n",
              "      <td>82662</td>\n",
              "      <td>4</td>\n",
              "      <td>2000-04-16</td>\n",
              "      <td>1975.0</td>\n",
              "      <td>One Flew Over the Cuckoo's Nest</td>\n",
              "    </tr>\n",
              "  </tbody>\n",
              "</table>\n",
              "</div>"
            ],
            "text/plain": [
              "   movie_id  user_id  ...    year                            title\n",
              "0      8327   905467  ...  1975.0  One Flew Over the Cuckoo's Nest\n",
              "1      8327  1704412  ...  1975.0  One Flew Over the Cuckoo's Nest\n",
              "2      8327  1685089  ...  1975.0  One Flew Over the Cuckoo's Nest\n",
              "3      8327  2571175  ...  1975.0  One Flew Over the Cuckoo's Nest\n",
              "4      8327    82662  ...  1975.0  One Flew Over the Cuckoo's Nest\n",
              "\n",
              "[5 rows x 6 columns]"
            ]
          },
          "metadata": {
            "tags": []
          },
          "execution_count": 19
        }
      ]
    },
    {
      "cell_type": "code",
      "metadata": {
        "colab": {
          "base_uri": "https://localhost:8080/"
        },
        "id": "1ofalWlzUjO6",
        "outputId": "9e048ae2-ee01-48ec-f866-619639bb06fe"
      },
      "source": [
        "df.groupby('title')['rating'].mean().sort_values(ascending=False).head()\n"
      ],
      "execution_count": null,
      "outputs": [
        {
          "output_type": "execute_result",
          "data": {
            "text/plain": [
              "title\n",
              "NFL Super Bowl XXXVII                              5.0\n",
              "Metallica: With the San Francisco Symphony: S&M    5.0\n",
              "Suze Orman: The Road to Wealth                     5.0\n",
              "David Searching                                    5.0\n",
              "The Lost Boys: Special Edition: Bonus Material     5.0\n",
              "Name: rating, dtype: float64"
            ]
          },
          "metadata": {
            "tags": []
          },
          "execution_count": 20
        }
      ]
    },
    {
      "cell_type": "code",
      "metadata": {
        "colab": {
          "base_uri": "https://localhost:8080/"
        },
        "id": "E2DBuyYxU2or",
        "outputId": "2bc17791-d92b-4be5-d7f9-d36bad45e61e"
      },
      "source": [
        "df.groupby('title')['rating'].count().sort_values(ascending=False).head()\n"
      ],
      "execution_count": null,
      "outputs": [
        {
          "output_type": "execute_result",
          "data": {
            "text/plain": [
              "title\n",
              "Miss Congeniality         900\n",
              "The Patriot               854\n",
              "The Godfather             829\n",
              "Independence Day          807\n",
              "The Day After Tomorrow    794\n",
              "Name: rating, dtype: int64"
            ]
          },
          "metadata": {
            "tags": []
          },
          "execution_count": 21
        }
      ]
    },
    {
      "cell_type": "code",
      "metadata": {
        "colab": {
          "base_uri": "https://localhost:8080/",
          "height": 235
        },
        "id": "g3WJsWcqU96Y",
        "outputId": "574eacc2-b11b-40a9-b3c2-da30ca91b477"
      },
      "source": [
        "\n",
        "ratings = pd.DataFrame(df.groupby('title')['rating'].mean())\n",
        "ratings.head()"
      ],
      "execution_count": null,
      "outputs": [
        {
          "output_type": "execute_result",
          "data": {
            "text/html": [
              "<div>\n",
              "<style scoped>\n",
              "    .dataframe tbody tr th:only-of-type {\n",
              "        vertical-align: middle;\n",
              "    }\n",
              "\n",
              "    .dataframe tbody tr th {\n",
              "        vertical-align: top;\n",
              "    }\n",
              "\n",
              "    .dataframe thead th {\n",
              "        text-align: right;\n",
              "    }\n",
              "</style>\n",
              "<table border=\"1\" class=\"dataframe\">\n",
              "  <thead>\n",
              "    <tr style=\"text-align: right;\">\n",
              "      <th></th>\n",
              "      <th>rating</th>\n",
              "    </tr>\n",
              "    <tr>\n",
              "      <th>title</th>\n",
              "      <th></th>\n",
              "    </tr>\n",
              "  </thead>\n",
              "  <tbody>\n",
              "    <tr>\n",
              "      <th>'Allo 'Allo!: Series 1</th>\n",
              "      <td>4.0</td>\n",
              "    </tr>\n",
              "    <tr>\n",
              "      <th>'Allo 'Allo!: Series 3</th>\n",
              "      <td>3.0</td>\n",
              "    </tr>\n",
              "    <tr>\n",
              "      <th>'N Sync: 'N the Mix</th>\n",
              "      <td>3.0</td>\n",
              "    </tr>\n",
              "    <tr>\n",
              "      <th>'N Sync: Live at Madison Square Garden</th>\n",
              "      <td>4.0</td>\n",
              "    </tr>\n",
              "    <tr>\n",
              "      <th>'N Sync: Making of the Tour</th>\n",
              "      <td>3.0</td>\n",
              "    </tr>\n",
              "  </tbody>\n",
              "</table>\n",
              "</div>"
            ],
            "text/plain": [
              "                                        rating\n",
              "title                                         \n",
              "'Allo 'Allo!: Series 1                     4.0\n",
              "'Allo 'Allo!: Series 3                     3.0\n",
              "'N Sync: 'N the Mix                        3.0\n",
              "'N Sync: Live at Madison Square Garden     4.0\n",
              "'N Sync: Making of the Tour                3.0"
            ]
          },
          "metadata": {
            "tags": []
          },
          "execution_count": 22
        }
      ]
    },
    {
      "cell_type": "code",
      "metadata": {
        "colab": {
          "base_uri": "https://localhost:8080/",
          "height": 235
        },
        "id": "to4hNzHeVIm3",
        "outputId": "c8890f52-34ac-44b8-df38-296c7891f6ae"
      },
      "source": [
        "ratings['num of ratings'] = pd.DataFrame(df.groupby('title')['rating'].count())\n",
        "ratings.head()"
      ],
      "execution_count": null,
      "outputs": [
        {
          "output_type": "execute_result",
          "data": {
            "text/html": [
              "<div>\n",
              "<style scoped>\n",
              "    .dataframe tbody tr th:only-of-type {\n",
              "        vertical-align: middle;\n",
              "    }\n",
              "\n",
              "    .dataframe tbody tr th {\n",
              "        vertical-align: top;\n",
              "    }\n",
              "\n",
              "    .dataframe thead th {\n",
              "        text-align: right;\n",
              "    }\n",
              "</style>\n",
              "<table border=\"1\" class=\"dataframe\">\n",
              "  <thead>\n",
              "    <tr style=\"text-align: right;\">\n",
              "      <th></th>\n",
              "      <th>rating</th>\n",
              "      <th>num of ratings</th>\n",
              "    </tr>\n",
              "    <tr>\n",
              "      <th>title</th>\n",
              "      <th></th>\n",
              "      <th></th>\n",
              "    </tr>\n",
              "  </thead>\n",
              "  <tbody>\n",
              "    <tr>\n",
              "      <th>'Allo 'Allo!: Series 1</th>\n",
              "      <td>4.0</td>\n",
              "      <td>2</td>\n",
              "    </tr>\n",
              "    <tr>\n",
              "      <th>'Allo 'Allo!: Series 3</th>\n",
              "      <td>3.0</td>\n",
              "      <td>1</td>\n",
              "    </tr>\n",
              "    <tr>\n",
              "      <th>'N Sync: 'N the Mix</th>\n",
              "      <td>3.0</td>\n",
              "      <td>2</td>\n",
              "    </tr>\n",
              "    <tr>\n",
              "      <th>'N Sync: Live at Madison Square Garden</th>\n",
              "      <td>4.0</td>\n",
              "      <td>3</td>\n",
              "    </tr>\n",
              "    <tr>\n",
              "      <th>'N Sync: Making of the Tour</th>\n",
              "      <td>3.0</td>\n",
              "      <td>1</td>\n",
              "    </tr>\n",
              "  </tbody>\n",
              "</table>\n",
              "</div>"
            ],
            "text/plain": [
              "                                        rating  num of ratings\n",
              "title                                                         \n",
              "'Allo 'Allo!: Series 1                     4.0               2\n",
              "'Allo 'Allo!: Series 3                     3.0               1\n",
              "'N Sync: 'N the Mix                        3.0               2\n",
              "'N Sync: Live at Madison Square Garden     4.0               3\n",
              "'N Sync: Making of the Tour                3.0               1"
            ]
          },
          "metadata": {
            "tags": []
          },
          "execution_count": 23
        }
      ]
    },
    {
      "cell_type": "code",
      "metadata": {
        "colab": {
          "base_uri": "https://localhost:8080/",
          "height": 265
        },
        "id": "WBZ2dB2vVQh5",
        "outputId": "9300b877-8f96-46d6-8033-6f3c2fe9cffa"
      },
      "source": [
        "plt.figure(figsize=(10,4))\n",
        "ratings['num of ratings'].hist(bins=30)\n",
        "plt.show()\n"
      ],
      "execution_count": null,
      "outputs": [
        {
          "output_type": "display_data",
          "data": {
            "image/png": "[encoded data removed]",
            "text/plain": [
              "<Figure size 720x288 with 1 Axes>"
            ]
          },
          "metadata": {
            "tags": [],
            "needs_background": "light"
          }
        }
      ]
    },
    {
      "cell_type": "code",
      "metadata": {
        "colab": {
          "base_uri": "https://localhost:8080/",
          "height": 283
        },
        "id": "RIWtUeatVc1H",
        "outputId": "0485a6d5-35f3-4537-db5f-00c82fd1e3f1"
      },
      "source": [
        "\n",
        "plt.figure(figsize=(10,4))\n",
        "ratings['rating'].hist(bins=70)"
      ],
      "execution_count": null,
      "outputs": [
        {
          "output_type": "execute_result",
          "data": {
            "text/plain": [
              "<matplotlib.axes._subplots.AxesSubplot at 0x7f2321e0d850>"
            ]
          },
          "metadata": {
            "tags": []
          },
          "execution_count": 25
        },
        {
          "output_type": "display_data",
          "data": {
            "image/png": "[encoded data removed]",
            "text/plain": [
              "<Figure size 720x288 with 1 Axes>"
            ]
          },
          "metadata": {
            "tags": [],
            "needs_background": "light"
          }
        }
      ]
    },
    {
      "cell_type": "code",
      "metadata": {
        "colab": {
          "base_uri": "https://localhost:8080/",
          "height": 458
        },
        "id": "4AEwC6fTVpQh",
        "outputId": "92bed0b2-11aa-498c-cd88-261103fbd461"
      },
      "source": [
        "sns.jointplot(x='rating',y='num of ratings',data=ratings,alpha=0.5)\n"
      ],
      "execution_count": null,
      "outputs": [
        {
          "output_type": "execute_result",
          "data": {
            "text/plain": [
              "<seaborn.axisgrid.JointGrid at 0x7f23200df950>"
            ]
          },
          "metadata": {
            "tags": []
          },
          "execution_count": 26
        },
        {
          "output_type": "display_data",
          "data": {
            "image/png": "[encoded data removed]",
            "text/plain": [
              "<Figure size 432x432 with 3 Axes>"
            ]
          },
          "metadata": {
            "tags": [],
            "needs_background": "light"
          }
        }
      ]
    },
    {
      "cell_type": "code",
      "metadata": {
        "colab": {
          "base_uri": "https://localhost:8080/",
          "height": 703
        },
        "id": "rQu6hqqmR5pn",
        "outputId": "78eb2c7c-62e6-4f13-cb04-75b8bae633ec"
      },
      "source": [
        "imdb_file = '../content/gdrive/MyDrive/Colab Notebooks/imdb/IMDb movies.csv'\n",
        "\n",
        "imdb_df = pd.read_csv(imdb_file)\n",
        "\n",
        "imdb_df.head()"
      ],
      "execution_count": null,
      "outputs": [
        {
          "output_type": "stream",
          "text": [
            "/usr/local/lib/python3.7/dist-packages/IPython/core/interactiveshell.py:2718: DtypeWarning: Columns (3) have mixed types.Specify dtype option on import or set low_memory=False.\n",
            "  interactivity=interactivity, compiler=compiler, result=result)\n"
          ],
          "name": "stderr"
        },
        {
          "output_type": "execute_result",
          "data": {
            "text/html": [
              "<div>\n",
              "<style scoped>\n",
              "    .dataframe tbody tr th:only-of-type {\n",
              "        vertical-align: middle;\n",
              "    }\n",
              "\n",
              "    .dataframe tbody tr th {\n",
              "        vertical-align: top;\n",
              "    }\n",
              "\n",
              "    .dataframe thead th {\n",
              "        text-align: right;\n",
              "    }\n",
              "</style>\n",
              "<table border=\"1\" class=\"dataframe\">\n",
              "  <thead>\n",
              "    <tr style=\"text-align: right;\">\n",
              "      <th></th>\n",
              "      <th>imdb_title_id</th>\n",
              "      <th>title</th>\n",
              "      <th>original_title</th>\n",
              "      <th>year</th>\n",
              "      <th>date_published</th>\n",
              "      <th>genre</th>\n",
              "      <th>duration</th>\n",
              "      <th>country</th>\n",
              "      <th>language</th>\n",
              "      <th>director</th>\n",
              "      <th>writer</th>\n",
              "      <th>production_company</th>\n",
              "      <th>actors</th>\n",
              "      <th>description</th>\n",
              "      <th>avg_vote</th>\n",
              "      <th>votes</th>\n",
              "      <th>budget</th>\n",
              "      <th>usa_gross_income</th>\n",
              "      <th>worlwide_gross_income</th>\n",
              "      <th>metascore</th>\n",
              "      <th>reviews_from_users</th>\n",
              "      <th>reviews_from_critics</th>\n",
              "    </tr>\n",
              "  </thead>\n",
              "  <tbody>\n",
              "    <tr>\n",
              "      <th>0</th>\n",
              "      <td>tt0000009</td>\n",
              "      <td>Miss Jerry</td>\n",
              "      <td>Miss Jerry</td>\n",
              "      <td>1894</td>\n",
              "      <td>1894-10-09</td>\n",
              "      <td>Romance</td>\n",
              "      <td>45</td>\n",
              "      <td>USA</td>\n",
              "      <td>None</td>\n",
              "      <td>Alexander Black</td>\n",
              "      <td>Alexander Black</td>\n",
              "      <td>Alexander Black Photoplays</td>\n",
              "      <td>Blanche Bayliss, William Courtenay, Chauncey D...</td>\n",
              "      <td>The adventures of a female reporter in the 1890s.</td>\n",
              "      <td>5.9</td>\n",
              "      <td>154</td>\n",
              "      <td>NaN</td>\n",
              "      <td>NaN</td>\n",
              "      <td>NaN</td>\n",
              "      <td>NaN</td>\n",
              "      <td>1.0</td>\n",
              "      <td>2.0</td>\n",
              "    </tr>\n",
              "    <tr>\n",
              "      <th>1</th>\n",
              "      <td>tt0000574</td>\n",
              "      <td>The Story of the Kelly Gang</td>\n",
              "      <td>The Story of the Kelly Gang</td>\n",
              "      <td>1906</td>\n",
              "      <td>1906-12-26</td>\n",
              "      <td>Biography, Crime, Drama</td>\n",
              "      <td>70</td>\n",
              "      <td>Australia</td>\n",
              "      <td>None</td>\n",
              "      <td>Charles Tait</td>\n",
              "      <td>Charles Tait</td>\n",
              "      <td>J. and N. Tait</td>\n",
              "      <td>Elizabeth Tait, John Tait, Norman Campbell, Be...</td>\n",
              "      <td>True story of notorious Australian outlaw Ned ...</td>\n",
              "      <td>6.1</td>\n",
              "      <td>589</td>\n",
              "      <td>$ 2250</td>\n",
              "      <td>NaN</td>\n",
              "      <td>NaN</td>\n",
              "      <td>NaN</td>\n",
              "      <td>7.0</td>\n",
              "      <td>7.0</td>\n",
              "    </tr>\n",
              "    <tr>\n",
              "      <th>2</th>\n",
              "      <td>tt0001892</td>\n",
              "      <td>Den sorte drøm</td>\n",
              "      <td>Den sorte drøm</td>\n",
              "      <td>1911</td>\n",
              "      <td>1911-08-19</td>\n",
              "      <td>Drama</td>\n",
              "      <td>53</td>\n",
              "      <td>Germany, Denmark</td>\n",
              "      <td>NaN</td>\n",
              "      <td>Urban Gad</td>\n",
              "      <td>Urban Gad, Gebhard Schätzler-Perasini</td>\n",
              "      <td>Fotorama</td>\n",
              "      <td>Asta Nielsen, Valdemar Psilander, Gunnar Helse...</td>\n",
              "      <td>Two men of high rank are both wooing the beaut...</td>\n",
              "      <td>5.8</td>\n",
              "      <td>188</td>\n",
              "      <td>NaN</td>\n",
              "      <td>NaN</td>\n",
              "      <td>NaN</td>\n",
              "      <td>NaN</td>\n",
              "      <td>5.0</td>\n",
              "      <td>2.0</td>\n",
              "    </tr>\n",
              "    <tr>\n",
              "      <th>3</th>\n",
              "      <td>tt0002101</td>\n",
              "      <td>Cleopatra</td>\n",
              "      <td>Cleopatra</td>\n",
              "      <td>1912</td>\n",
              "      <td>1912-11-13</td>\n",
              "      <td>Drama, History</td>\n",
              "      <td>100</td>\n",
              "      <td>USA</td>\n",
              "      <td>English</td>\n",
              "      <td>Charles L. Gaskill</td>\n",
              "      <td>Victorien Sardou</td>\n",
              "      <td>Helen Gardner Picture Players</td>\n",
              "      <td>Helen Gardner, Pearl Sindelar, Miss Fielding, ...</td>\n",
              "      <td>The fabled queen of Egypt's affair with Roman ...</td>\n",
              "      <td>5.2</td>\n",
              "      <td>446</td>\n",
              "      <td>$ 45000</td>\n",
              "      <td>NaN</td>\n",
              "      <td>NaN</td>\n",
              "      <td>NaN</td>\n",
              "      <td>25.0</td>\n",
              "      <td>3.0</td>\n",
              "    </tr>\n",
              "    <tr>\n",
              "      <th>4</th>\n",
              "      <td>tt0002130</td>\n",
              "      <td>L'Inferno</td>\n",
              "      <td>L'Inferno</td>\n",
              "      <td>1911</td>\n",
              "      <td>1911-03-06</td>\n",
              "      <td>Adventure, Drama, Fantasy</td>\n",
              "      <td>68</td>\n",
              "      <td>Italy</td>\n",
              "      <td>Italian</td>\n",
              "      <td>Francesco Bertolini, Adolfo Padovan</td>\n",
              "      <td>Dante Alighieri</td>\n",
              "      <td>Milano Film</td>\n",
              "      <td>Salvatore Papa, Arturo Pirovano, Giuseppe de L...</td>\n",
              "      <td>Loosely adapted from Dante's Divine Comedy and...</td>\n",
              "      <td>7.0</td>\n",
              "      <td>2237</td>\n",
              "      <td>NaN</td>\n",
              "      <td>NaN</td>\n",
              "      <td>NaN</td>\n",
              "      <td>NaN</td>\n",
              "      <td>31.0</td>\n",
              "      <td>14.0</td>\n",
              "    </tr>\n",
              "  </tbody>\n",
              "</table>\n",
              "</div>"
            ],
            "text/plain": [
              "  imdb_title_id  ... reviews_from_critics\n",
              "0     tt0000009  ...                  2.0\n",
              "1     tt0000574  ...                  7.0\n",
              "2     tt0001892  ...                  2.0\n",
              "3     tt0002101  ...                  3.0\n",
              "4     tt0002130  ...                 14.0\n",
              "\n",
              "[5 rows x 22 columns]"
            ]
          },
          "metadata": {
            "tags": []
          },
          "execution_count": 27
        }
      ]
    },
    {
      "cell_type": "code",
      "metadata": {
        "colab": {
          "base_uri": "https://localhost:8080/"
        },
        "id": "owVOQfgBR6Dq",
        "outputId": "b297cb9e-aa7b-475a-9ad8-cb6bb58c0656"
      },
      "source": [
        "pd.merge(movie_titles, imdb_df, how = 'inner', left_on = 'title', right_on = 'title').shape\n"
      ],
      "execution_count": null,
      "outputs": [
        {
          "output_type": "execute_result",
          "data": {
            "text/plain": [
              "(4876, 24)"
            ]
          },
          "metadata": {
            "tags": []
          },
          "execution_count": 28
        }
      ]
    },
    {
      "cell_type": "code",
      "metadata": {
        "id": "WzDR4Ns77dZn"
      },
      "source": [
        "# Sample top 1K users w/ top 10K movies\n",
        "g = df.groupby('user_id')['rating'].count()\n",
        "top_users = g.sort_values(ascending=False)[:1000]\n",
        "g = df.groupby('movie_id')['rating'].count()\n",
        "top_movies = g.sort_values(ascending=False)[:10000]\n",
        "top_r = df.join(top_users, rsuffix='_r', how='inner', on='user_id')\n",
        "df = top_r.join(top_movies, rsuffix='_r', how='inner', on='movie_id')\n"
      ],
      "execution_count": null,
      "outputs": []
    },
    {
      "cell_type": "code",
      "metadata": {
        "id": "cWZqMv3IVuD0"
      },
      "source": [
        "# Encode the user and movie from 0 to distinct number of users / movies\n",
        "user_enc = LabelEncoder()\n",
        "df['user_enc'] = user_enc.fit_transform(df['user_id'].values)\n",
        "n_users = df['user_enc'].nunique()\n",
        "item_enc = LabelEncoder()\n",
        "df['movie_enc'] = item_enc.fit_transform(df['movie_id'].values)\n",
        "n_movies = df['movie_enc'].nunique()\n",
        "df['rating'] = df['rating'].values.astype(np.float32)\n",
        "min_rating = min(df['rating'])\n",
        "max_rating = max(df['rating'])"
      ],
      "execution_count": null,
      "outputs": []
    },
    {
      "cell_type": "code",
      "metadata": {
        "colab": {
          "base_uri": "https://localhost:8080/"
        },
        "id": "zYROe_CsWe7-",
        "outputId": "0a46b56a-f634-4d20-81f6-8fc290a5ec67"
      },
      "source": [
        "n_users, n_movies, min_rating, max_rating\n"
      ],
      "execution_count": null,
      "outputs": [
        {
          "output_type": "execute_result",
          "data": {
            "text/plain": [
              "(1000, 5659, 1.0, 5.0)"
            ]
          },
          "metadata": {
            "tags": []
          },
          "execution_count": 31
        }
      ]
    },
    {
      "cell_type": "markdown",
      "metadata": {
        "id": "zH3ZP2DSWt2K"
      },
      "source": [
        "Embedding\n"
      ]
    },
    {
      "cell_type": "code",
      "metadata": {
        "colab": {
          "base_uri": "https://localhost:8080/",
          "height": 419
        },
        "id": "0-ab9T40_RmK",
        "outputId": "7b0a2748-3dc7-49ae-e42c-7617975364d6"
      },
      "source": [
        "df"
      ],
      "execution_count": null,
      "outputs": [
        {
          "output_type": "execute_result",
          "data": {
            "text/html": [
              "<div>\n",
              "<style scoped>\n",
              "    .dataframe tbody tr th:only-of-type {\n",
              "        vertical-align: middle;\n",
              "    }\n",
              "\n",
              "    .dataframe tbody tr th {\n",
              "        vertical-align: top;\n",
              "    }\n",
              "\n",
              "    .dataframe thead th {\n",
              "        text-align: right;\n",
              "    }\n",
              "</style>\n",
              "<table border=\"1\" class=\"dataframe\">\n",
              "  <thead>\n",
              "    <tr style=\"text-align: right;\">\n",
              "      <th></th>\n",
              "      <th>movie_id</th>\n",
              "      <th>user_id</th>\n",
              "      <th>rating</th>\n",
              "      <th>date</th>\n",
              "      <th>year</th>\n",
              "      <th>title</th>\n",
              "      <th>rating_r</th>\n",
              "      <th>rating_r</th>\n",
              "      <th>user_enc</th>\n",
              "      <th>movie_enc</th>\n",
              "    </tr>\n",
              "  </thead>\n",
              "  <tbody>\n",
              "    <tr>\n",
              "      <th>16</th>\n",
              "      <td>8327</td>\n",
              "      <td>1171523</td>\n",
              "      <td>4.0</td>\n",
              "      <td>2002-03-09</td>\n",
              "      <td>1975.0</td>\n",
              "      <td>One Flew Over the Cuckoo's Nest</td>\n",
              "      <td>10</td>\n",
              "      <td>343</td>\n",
              "      <td>447</td>\n",
              "      <td>2637</td>\n",
              "    </tr>\n",
              "    <tr>\n",
              "      <th>36</th>\n",
              "      <td>8327</td>\n",
              "      <td>265257</td>\n",
              "      <td>4.0</td>\n",
              "      <td>2002-07-21</td>\n",
              "      <td>1975.0</td>\n",
              "      <td>One Flew Over the Cuckoo's Nest</td>\n",
              "      <td>14</td>\n",
              "      <td>343</td>\n",
              "      <td>97</td>\n",
              "      <td>2637</td>\n",
              "    </tr>\n",
              "    <tr>\n",
              "      <th>37</th>\n",
              "      <td>8327</td>\n",
              "      <td>2283695</td>\n",
              "      <td>3.0</td>\n",
              "      <td>2002-08-19</td>\n",
              "      <td>1975.0</td>\n",
              "      <td>One Flew Over the Cuckoo's Nest</td>\n",
              "      <td>11</td>\n",
              "      <td>343</td>\n",
              "      <td>861</td>\n",
              "      <td>2637</td>\n",
              "    </tr>\n",
              "    <tr>\n",
              "      <th>106</th>\n",
              "      <td>8327</td>\n",
              "      <td>1418521</td>\n",
              "      <td>5.0</td>\n",
              "      <td>2004-05-20</td>\n",
              "      <td>1975.0</td>\n",
              "      <td>One Flew Over the Cuckoo's Nest</td>\n",
              "      <td>11</td>\n",
              "      <td>343</td>\n",
              "      <td>530</td>\n",
              "      <td>2637</td>\n",
              "    </tr>\n",
              "    <tr>\n",
              "      <th>129</th>\n",
              "      <td>8327</td>\n",
              "      <td>2150689</td>\n",
              "      <td>1.0</td>\n",
              "      <td>2004-08-09</td>\n",
              "      <td>1975.0</td>\n",
              "      <td>One Flew Over the Cuckoo's Nest</td>\n",
              "      <td>12</td>\n",
              "      <td>343</td>\n",
              "      <td>811</td>\n",
              "      <td>2637</td>\n",
              "    </tr>\n",
              "    <tr>\n",
              "      <th>...</th>\n",
              "      <td>...</td>\n",
              "      <td>...</td>\n",
              "      <td>...</td>\n",
              "      <td>...</td>\n",
              "      <td>...</td>\n",
              "      <td>...</td>\n",
              "      <td>...</td>\n",
              "      <td>...</td>\n",
              "      <td>...</td>\n",
              "      <td>...</td>\n",
              "    </tr>\n",
              "    <tr>\n",
              "      <th>244683</th>\n",
              "      <td>6374</td>\n",
              "      <td>654591</td>\n",
              "      <td>5.0</td>\n",
              "      <td>2005-01-20</td>\n",
              "      <td>2002.0</td>\n",
              "      <td>South Park: Ghouls</td>\n",
              "      <td>11</td>\n",
              "      <td>24</td>\n",
              "      <td>244</td>\n",
              "      <td>2004</td>\n",
              "    </tr>\n",
              "    <tr>\n",
              "      <th>266898</th>\n",
              "      <td>15365</td>\n",
              "      <td>2375169</td>\n",
              "      <td>3.0</td>\n",
              "      <td>2005-08-16</td>\n",
              "      <td>1991.0</td>\n",
              "      <td>Flight of the Intruder</td>\n",
              "      <td>11</td>\n",
              "      <td>17</td>\n",
              "      <td>896</td>\n",
              "      <td>4868</td>\n",
              "    </tr>\n",
              "    <tr>\n",
              "      <th>393725</th>\n",
              "      <td>7833</td>\n",
              "      <td>2375169</td>\n",
              "      <td>3.0</td>\n",
              "      <td>2005-11-11</td>\n",
              "      <td>2004.0</td>\n",
              "      <td>Arrested Development: Season 2</td>\n",
              "      <td>11</td>\n",
              "      <td>25</td>\n",
              "      <td>896</td>\n",
              "      <td>2486</td>\n",
              "    </tr>\n",
              "    <tr>\n",
              "      <th>221053</th>\n",
              "      <td>10413</td>\n",
              "      <td>1599816</td>\n",
              "      <td>3.0</td>\n",
              "      <td>2003-07-09</td>\n",
              "      <td>2002.0</td>\n",
              "      <td>Clockstoppers</td>\n",
              "      <td>10</td>\n",
              "      <td>37</td>\n",
              "      <td>604</td>\n",
              "      <td>3254</td>\n",
              "    </tr>\n",
              "    <tr>\n",
              "      <th>294647</th>\n",
              "      <td>10802</td>\n",
              "      <td>1599816</td>\n",
              "      <td>3.0</td>\n",
              "      <td>2005-10-04</td>\n",
              "      <td>1998.0</td>\n",
              "      <td>The Sex Monster</td>\n",
              "      <td>10</td>\n",
              "      <td>7</td>\n",
              "      <td>604</td>\n",
              "      <td>3373</td>\n",
              "    </tr>\n",
              "  </tbody>\n",
              "</table>\n",
              "<p>12856 rows × 10 columns</p>\n",
              "</div>"
            ],
            "text/plain": [
              "        movie_id  user_id  rating  ... rating_r  user_enc movie_enc\n",
              "16          8327  1171523     4.0  ...      343       447      2637\n",
              "36          8327   265257     4.0  ...      343        97      2637\n",
              "37          8327  2283695     3.0  ...      343       861      2637\n",
              "106         8327  1418521     5.0  ...      343       530      2637\n",
              "129         8327  2150689     1.0  ...      343       811      2637\n",
              "...          ...      ...     ...  ...      ...       ...       ...\n",
              "244683      6374   654591     5.0  ...       24       244      2004\n",
              "266898     15365  2375169     3.0  ...       17       896      4868\n",
              "393725      7833  2375169     3.0  ...       25       896      2486\n",
              "221053     10413  1599816     3.0  ...       37       604      3254\n",
              "294647     10802  1599816     3.0  ...        7       604      3373\n",
              "\n",
              "[12856 rows x 10 columns]"
            ]
          },
          "metadata": {
            "tags": []
          },
          "execution_count": 32
        }
      ]
    },
    {
      "cell_type": "code",
      "metadata": {
        "colab": {
          "base_uri": "https://localhost:8080/"
        },
        "id": "TdI3qYB-WmOe",
        "outputId": "1ccd0d56-c591-41d0-ba7a-6ca2d03056e6"
      },
      "source": [
        "X = df[['user_enc', 'movie_enc']].values\n",
        "y = df['rating'].values\n",
        "X_train, X_test, y_train, y_test = train_test_split(X, y, test_size=0.1, random_state=42)\n",
        "X_train.shape, X_test.shape, y_train.shape, y_test.shape"
      ],
      "execution_count": null,
      "outputs": [
        {
          "output_type": "execute_result",
          "data": {
            "text/plain": [
              "((11570, 2), (1286, 2), (11570,), (1286,))"
            ]
          },
          "metadata": {
            "tags": []
          },
          "execution_count": 33
        }
      ]
    },
    {
      "cell_type": "code",
      "metadata": {
        "id": "rgHccmzbWxqQ"
      },
      "source": [
        "n_factors = 50\n",
        "X_train_array = [X_train[:, 0], X_train[:, 1]]\n",
        "X_test_array = [X_test[:, 0], X_test[:, 1]]"
      ],
      "execution_count": null,
      "outputs": []
    },
    {
      "cell_type": "code",
      "metadata": {
        "id": "ldoaUybheFwA"
      },
      "source": [
        "from keras.models import Model\n",
        "from keras.layers import Input, Reshape, Dot\n",
        "from keras.layers.embeddings import Embedding\n",
        "from keras.optimizers import Adam\n",
        "from keras.regularizers import l2\n",
        "def RecommenderV1(n_users, n_movies, n_factors):\n",
        "    user = Input(shape=(1,))\n",
        "    u = Embedding(n_users, n_factors, embeddings_initializer='he_normal',\n",
        "                  embeddings_regularizer=l2(1e-6))(user)\n",
        "    u = Reshape((n_factors,))(u)\n",
        "    \n",
        "    movie = Input(shape=(1,))\n",
        "    m = Embedding(n_movies, n_factors, embeddings_initializer='he_normal',\n",
        "                  embeddings_regularizer=l2(1e-6))(movie)\n",
        "    m = Reshape((n_factors,))(m)\n",
        "    \n",
        "    x = Dot(axes=1)([u, m])\n",
        "    model = Model(inputs=[user, movie], outputs=x)\n",
        "    opt = Adam(learning_rate=0.001)\n",
        "    model.compile(loss='mean_squared_error', optimizer=opt)\n",
        "    return model"
      ],
      "execution_count": null,
      "outputs": []
    },
    {
      "cell_type": "code",
      "metadata": {
        "colab": {
          "base_uri": "https://localhost:8080/"
        },
        "id": "MsYrVpmf-EwT",
        "outputId": "dd083f79-c04a-49b7-d062-0d474ffc9e47"
      },
      "source": [
        "X_train_array"
      ],
      "execution_count": null,
      "outputs": [
        {
          "output_type": "execute_result",
          "data": {
            "text/plain": [
              "[array([535, 789, 948, ..., 942, 547, 229]),\n",
              " array([2256, 1431, 2412, ..., 1068, 4241, 2643])]"
            ]
          },
          "metadata": {
            "tags": []
          },
          "execution_count": 36
        }
      ]
    },
    {
      "cell_type": "code",
      "metadata": {
        "colab": {
          "base_uri": "https://localhost:8080/"
        },
        "id": "ostNUj3--EwH",
        "outputId": "aaf07a5a-8965-4c84-eaa8-d23347fc64e4"
      },
      "source": [
        "model = RecommenderV1(n_users, n_movies, n_factors)\n",
        "model.summary()"
      ],
      "execution_count": null,
      "outputs": [
        {
          "output_type": "stream",
          "text": [
            "Model: \"model\"\n",
            "__________________________________________________________________________________________________\n",
            "Layer (type)                    Output Shape         Param #     Connected to                     \n",
            "==================================================================================================\n",
            "input_1 (InputLayer)            [(None, 1)]          0                                            \n",
            "__________________________________________________________________________________________________\n",
            "input_2 (InputLayer)            [(None, 1)]          0                                            \n",
            "__________________________________________________________________________________________________\n",
            "embedding (Embedding)           (None, 1, 50)        50000       input_1[0][0]                    \n",
            "__________________________________________________________________________________________________\n",
            "embedding_1 (Embedding)         (None, 1, 50)        282950      input_2[0][0]                    \n",
            "__________________________________________________________________________________________________\n",
            "reshape (Reshape)               (None, 50)           0           embedding[0][0]                  \n",
            "__________________________________________________________________________________________________\n",
            "reshape_1 (Reshape)             (None, 50)           0           embedding_1[0][0]                \n",
            "__________________________________________________________________________________________________\n",
            "dot (Dot)                       (None, 1)            0           reshape[0][0]                    \n",
            "                                                                 reshape_1[0][0]                  \n",
            "==================================================================================================\n",
            "Total params: 332,950\n",
            "Trainable params: 332,950\n",
            "Non-trainable params: 0\n",
            "__________________________________________________________________________________________________\n"
          ],
          "name": "stdout"
        }
      ]
    },
    {
      "cell_type": "code",
      "metadata": {
        "colab": {
          "base_uri": "https://localhost:8080/"
        },
        "id": "THVU37Al-HjP",
        "outputId": "6c85c500-6107-4115-e058-374d7a02967f"
      },
      "source": [
        "history = model.fit(x=X_train_array, y=y_train, batch_size=64, epochs=5,\n",
        "                    verbose=1, validation_data=(X_test_array, y_test))"
      ],
      "execution_count": null,
      "outputs": [
        {
          "output_type": "stream",
          "text": [
            "Epoch 1/5\n",
            "181/181 [==============================] - 18s 16ms/step - loss: 12.1242 - val_loss: 12.3056\n",
            "Epoch 2/5\n",
            "181/181 [==============================] - 3s 14ms/step - loss: 12.0342 - val_loss: 12.3053\n",
            "Epoch 3/5\n",
            "181/181 [==============================] - 3s 14ms/step - loss: 11.5784 - val_loss: 12.3045\n",
            "Epoch 4/5\n",
            "181/181 [==============================] - 3s 14ms/step - loss: 11.0776 - val_loss: 12.2997\n",
            "Epoch 5/5\n",
            "181/181 [==============================] - 2s 13ms/step - loss: 10.1753 - val_loss: 12.2922\n"
          ],
          "name": "stdout"
        }
      ]
    },
    {
      "cell_type": "code",
      "metadata": {
        "colab": {
          "base_uri": "https://localhost:8080/",
          "height": 167
        },
        "id": "6Km3jb6N_tnp",
        "outputId": "240fad7f-8a87-4b86-9611-37a37387315d"
      },
      "source": [
        "x"
      ],
      "execution_count": null,
      "outputs": [
        {
          "output_type": "error",
          "ename": "NameError",
          "evalue": "ignored",
          "traceback": [
            "\u001b[0;31m---------------------------------------------------------------------------\u001b[0m",
            "\u001b[0;31mNameError\u001b[0m                                 Traceback (most recent call last)",
            "\u001b[0;32m<ipython-input-39-6fcf9dfbd479>\u001b[0m in \u001b[0;36m<module>\u001b[0;34m()\u001b[0m\n\u001b[0;32m----> 1\u001b[0;31m \u001b[0mx\u001b[0m\u001b[0;34m\u001b[0m\u001b[0;34m\u001b[0m\u001b[0m\n\u001b[0m",
            "\u001b[0;31mNameError\u001b[0m: name 'x' is not defined"
          ]
        }
      ]
    },
    {
      "cell_type": "code",
      "metadata": {
        "id": "XYuQBDpF-QUE"
      },
      "source": [
        "# Get Embeddings for Movies\n",
        "movie_layer = model.get_layer('embedding_1')\n",
        "movie_weights = movie_layer.get_weights()[0]\n",
        "# movie_weights[:10]\n",
        "movie_weights_df = pd.DataFrame(movie_weights).reset_index()\n",
        "movie_weights_df.rename(columns={'index':'movie_enc'}, inplace=True)\n"
      ],
      "execution_count": null,
      "outputs": []
    },
    {
      "cell_type": "code",
      "metadata": {
        "colab": {
          "base_uri": "https://localhost:8080/",
          "height": 224
        },
        "id": "cBVOo_pM-bdY",
        "outputId": "ce4f0c4c-f811-4ac0-b6d8-0b096f3ea210"
      },
      "source": [
        "movie_weights_df.head()\n"
      ],
      "execution_count": null,
      "outputs": [
        {
          "output_type": "execute_result",
          "data": {
            "text/html": [
              "<div>\n",
              "<style scoped>\n",
              "    .dataframe tbody tr th:only-of-type {\n",
              "        vertical-align: middle;\n",
              "    }\n",
              "\n",
              "    .dataframe tbody tr th {\n",
              "        vertical-align: top;\n",
              "    }\n",
              "\n",
              "    .dataframe thead th {\n",
              "        text-align: right;\n",
              "    }\n",
              "</style>\n",
              "<table border=\"1\" class=\"dataframe\">\n",
              "  <thead>\n",
              "    <tr style=\"text-align: right;\">\n",
              "      <th></th>\n",
              "      <th>movie_enc</th>\n",
              "      <th>0</th>\n",
              "      <th>1</th>\n",
              "      <th>2</th>\n",
              "      <th>3</th>\n",
              "      <th>4</th>\n",
              "      <th>5</th>\n",
              "      <th>6</th>\n",
              "      <th>7</th>\n",
              "      <th>8</th>\n",
              "      <th>9</th>\n",
              "      <th>10</th>\n",
              "      <th>11</th>\n",
              "      <th>12</th>\n",
              "      <th>13</th>\n",
              "      <th>14</th>\n",
              "      <th>15</th>\n",
              "      <th>16</th>\n",
              "      <th>17</th>\n",
              "      <th>18</th>\n",
              "      <th>19</th>\n",
              "      <th>20</th>\n",
              "      <th>21</th>\n",
              "      <th>22</th>\n",
              "      <th>23</th>\n",
              "      <th>24</th>\n",
              "      <th>25</th>\n",
              "      <th>26</th>\n",
              "      <th>27</th>\n",
              "      <th>28</th>\n",
              "      <th>29</th>\n",
              "      <th>30</th>\n",
              "      <th>31</th>\n",
              "      <th>32</th>\n",
              "      <th>33</th>\n",
              "      <th>34</th>\n",
              "      <th>35</th>\n",
              "      <th>36</th>\n",
              "      <th>37</th>\n",
              "      <th>38</th>\n",
              "      <th>39</th>\n",
              "      <th>40</th>\n",
              "      <th>41</th>\n",
              "      <th>42</th>\n",
              "      <th>43</th>\n",
              "      <th>44</th>\n",
              "      <th>45</th>\n",
              "      <th>46</th>\n",
              "      <th>47</th>\n",
              "      <th>48</th>\n",
              "      <th>49</th>\n",
              "    </tr>\n",
              "  </thead>\n",
              "  <tbody>\n",
              "    <tr>\n",
              "      <th>0</th>\n",
              "      <td>0</td>\n",
              "      <td>-0.043691</td>\n",
              "      <td>-0.013777</td>\n",
              "      <td>0.086195</td>\n",
              "      <td>-0.081356</td>\n",
              "      <td>0.056196</td>\n",
              "      <td>-0.088241</td>\n",
              "      <td>0.065024</td>\n",
              "      <td>0.035200</td>\n",
              "      <td>0.097106</td>\n",
              "      <td>-0.038307</td>\n",
              "      <td>0.068024</td>\n",
              "      <td>-0.045379</td>\n",
              "      <td>-0.081011</td>\n",
              "      <td>-0.055961</td>\n",
              "      <td>0.071091</td>\n",
              "      <td>0.055147</td>\n",
              "      <td>0.058951</td>\n",
              "      <td>-0.065277</td>\n",
              "      <td>0.073195</td>\n",
              "      <td>-0.066289</td>\n",
              "      <td>0.039027</td>\n",
              "      <td>-0.044993</td>\n",
              "      <td>0.074100</td>\n",
              "      <td>0.063373</td>\n",
              "      <td>0.058762</td>\n",
              "      <td>0.086080</td>\n",
              "      <td>0.071680</td>\n",
              "      <td>-0.057540</td>\n",
              "      <td>-0.062648</td>\n",
              "      <td>-0.070320</td>\n",
              "      <td>-0.037128</td>\n",
              "      <td>0.047227</td>\n",
              "      <td>0.073495</td>\n",
              "      <td>-0.084647</td>\n",
              "      <td>-0.038082</td>\n",
              "      <td>-0.059576</td>\n",
              "      <td>-0.063834</td>\n",
              "      <td>-0.054333</td>\n",
              "      <td>0.017499</td>\n",
              "      <td>-0.053732</td>\n",
              "      <td>-0.056469</td>\n",
              "      <td>0.036868</td>\n",
              "      <td>-0.064415</td>\n",
              "      <td>-0.093668</td>\n",
              "      <td>-0.066042</td>\n",
              "      <td>-0.088206</td>\n",
              "      <td>0.092578</td>\n",
              "      <td>-0.059136</td>\n",
              "      <td>0.051821</td>\n",
              "      <td>0.004704</td>\n",
              "    </tr>\n",
              "    <tr>\n",
              "      <th>1</th>\n",
              "      <td>1</td>\n",
              "      <td>0.059996</td>\n",
              "      <td>0.078434</td>\n",
              "      <td>-0.086373</td>\n",
              "      <td>-0.048854</td>\n",
              "      <td>0.076460</td>\n",
              "      <td>-0.052970</td>\n",
              "      <td>0.066444</td>\n",
              "      <td>0.073601</td>\n",
              "      <td>-0.081532</td>\n",
              "      <td>0.072430</td>\n",
              "      <td>-0.036312</td>\n",
              "      <td>0.092168</td>\n",
              "      <td>-0.014161</td>\n",
              "      <td>-0.027793</td>\n",
              "      <td>-0.031619</td>\n",
              "      <td>0.073563</td>\n",
              "      <td>-0.091381</td>\n",
              "      <td>-0.080756</td>\n",
              "      <td>-0.081559</td>\n",
              "      <td>0.084300</td>\n",
              "      <td>-0.065494</td>\n",
              "      <td>0.055993</td>\n",
              "      <td>0.069965</td>\n",
              "      <td>-0.043258</td>\n",
              "      <td>0.004208</td>\n",
              "      <td>-0.090387</td>\n",
              "      <td>0.069343</td>\n",
              "      <td>0.068381</td>\n",
              "      <td>-0.037592</td>\n",
              "      <td>0.047892</td>\n",
              "      <td>-0.093679</td>\n",
              "      <td>0.030689</td>\n",
              "      <td>0.092712</td>\n",
              "      <td>0.049837</td>\n",
              "      <td>0.086031</td>\n",
              "      <td>0.075489</td>\n",
              "      <td>-0.052269</td>\n",
              "      <td>-0.069600</td>\n",
              "      <td>0.024482</td>\n",
              "      <td>-0.057502</td>\n",
              "      <td>-0.079722</td>\n",
              "      <td>0.056487</td>\n",
              "      <td>0.014331</td>\n",
              "      <td>0.072857</td>\n",
              "      <td>-0.033190</td>\n",
              "      <td>-0.056123</td>\n",
              "      <td>0.056328</td>\n",
              "      <td>-0.093360</td>\n",
              "      <td>0.065907</td>\n",
              "      <td>-0.059364</td>\n",
              "    </tr>\n",
              "    <tr>\n",
              "      <th>2</th>\n",
              "      <td>2</td>\n",
              "      <td>-0.062683</td>\n",
              "      <td>-0.094300</td>\n",
              "      <td>0.055946</td>\n",
              "      <td>0.072540</td>\n",
              "      <td>-0.038875</td>\n",
              "      <td>0.096794</td>\n",
              "      <td>0.028476</td>\n",
              "      <td>-0.004061</td>\n",
              "      <td>0.103747</td>\n",
              "      <td>-0.073815</td>\n",
              "      <td>-0.043984</td>\n",
              "      <td>-0.029075</td>\n",
              "      <td>-0.048258</td>\n",
              "      <td>-0.026235</td>\n",
              "      <td>0.086158</td>\n",
              "      <td>-0.039873</td>\n",
              "      <td>0.099120</td>\n",
              "      <td>-0.082565</td>\n",
              "      <td>-0.022071</td>\n",
              "      <td>0.056328</td>\n",
              "      <td>0.055118</td>\n",
              "      <td>-0.093970</td>\n",
              "      <td>-0.043942</td>\n",
              "      <td>0.080414</td>\n",
              "      <td>-0.089171</td>\n",
              "      <td>0.070259</td>\n",
              "      <td>0.038158</td>\n",
              "      <td>0.042739</td>\n",
              "      <td>0.037651</td>\n",
              "      <td>-0.039237</td>\n",
              "      <td>0.082662</td>\n",
              "      <td>0.033207</td>\n",
              "      <td>-0.077253</td>\n",
              "      <td>-0.063251</td>\n",
              "      <td>-0.007724</td>\n",
              "      <td>0.085372</td>\n",
              "      <td>0.081631</td>\n",
              "      <td>-0.080396</td>\n",
              "      <td>0.090998</td>\n",
              "      <td>0.067050</td>\n",
              "      <td>0.069556</td>\n",
              "      <td>0.057674</td>\n",
              "      <td>0.071169</td>\n",
              "      <td>-0.070427</td>\n",
              "      <td>0.059899</td>\n",
              "      <td>0.056761</td>\n",
              "      <td>0.053002</td>\n",
              "      <td>0.022385</td>\n",
              "      <td>0.046509</td>\n",
              "      <td>0.079763</td>\n",
              "    </tr>\n",
              "    <tr>\n",
              "      <th>3</th>\n",
              "      <td>3</td>\n",
              "      <td>0.079642</td>\n",
              "      <td>0.055858</td>\n",
              "      <td>-0.071883</td>\n",
              "      <td>-0.064006</td>\n",
              "      <td>0.088921</td>\n",
              "      <td>-0.095575</td>\n",
              "      <td>0.048023</td>\n",
              "      <td>0.056231</td>\n",
              "      <td>-0.076071</td>\n",
              "      <td>0.096595</td>\n",
              "      <td>-0.047954</td>\n",
              "      <td>0.075640</td>\n",
              "      <td>0.046977</td>\n",
              "      <td>0.071419</td>\n",
              "      <td>0.067221</td>\n",
              "      <td>-0.072252</td>\n",
              "      <td>0.080377</td>\n",
              "      <td>-0.055842</td>\n",
              "      <td>-0.061469</td>\n",
              "      <td>-0.077412</td>\n",
              "      <td>-0.093513</td>\n",
              "      <td>0.064272</td>\n",
              "      <td>0.099183</td>\n",
              "      <td>0.084293</td>\n",
              "      <td>-0.094342</td>\n",
              "      <td>-0.063860</td>\n",
              "      <td>0.063212</td>\n",
              "      <td>0.083703</td>\n",
              "      <td>0.065009</td>\n",
              "      <td>-0.071489</td>\n",
              "      <td>-0.078120</td>\n",
              "      <td>0.073449</td>\n",
              "      <td>0.069189</td>\n",
              "      <td>0.087890</td>\n",
              "      <td>0.056686</td>\n",
              "      <td>0.083933</td>\n",
              "      <td>-0.066796</td>\n",
              "      <td>-0.068924</td>\n",
              "      <td>0.088343</td>\n",
              "      <td>-0.059001</td>\n",
              "      <td>0.095216</td>\n",
              "      <td>0.071647</td>\n",
              "      <td>0.077981</td>\n",
              "      <td>0.082587</td>\n",
              "      <td>-0.070516</td>\n",
              "      <td>0.059019</td>\n",
              "      <td>-0.088867</td>\n",
              "      <td>-0.084956</td>\n",
              "      <td>0.072562</td>\n",
              "      <td>0.088051</td>\n",
              "    </tr>\n",
              "    <tr>\n",
              "      <th>4</th>\n",
              "      <td>4</td>\n",
              "      <td>0.077402</td>\n",
              "      <td>-0.067971</td>\n",
              "      <td>0.044632</td>\n",
              "      <td>0.076509</td>\n",
              "      <td>0.061657</td>\n",
              "      <td>0.072377</td>\n",
              "      <td>-0.063812</td>\n",
              "      <td>0.072518</td>\n",
              "      <td>-0.083655</td>\n",
              "      <td>0.096301</td>\n",
              "      <td>0.070331</td>\n",
              "      <td>0.074383</td>\n",
              "      <td>-0.080025</td>\n",
              "      <td>0.093859</td>\n",
              "      <td>0.078044</td>\n",
              "      <td>0.077809</td>\n",
              "      <td>0.083953</td>\n",
              "      <td>0.035850</td>\n",
              "      <td>-0.083521</td>\n",
              "      <td>-0.061158</td>\n",
              "      <td>-0.071767</td>\n",
              "      <td>-0.070321</td>\n",
              "      <td>-0.016887</td>\n",
              "      <td>0.084471</td>\n",
              "      <td>-0.084047</td>\n",
              "      <td>-0.075450</td>\n",
              "      <td>0.054732</td>\n",
              "      <td>0.055356</td>\n",
              "      <td>0.057841</td>\n",
              "      <td>-0.067883</td>\n",
              "      <td>0.047738</td>\n",
              "      <td>-0.054436</td>\n",
              "      <td>0.086381</td>\n",
              "      <td>-0.054917</td>\n",
              "      <td>-0.081786</td>\n",
              "      <td>-0.079017</td>\n",
              "      <td>-0.053924</td>\n",
              "      <td>0.068464</td>\n",
              "      <td>0.071502</td>\n",
              "      <td>0.084720</td>\n",
              "      <td>-0.073913</td>\n",
              "      <td>0.031989</td>\n",
              "      <td>0.069821</td>\n",
              "      <td>0.079048</td>\n",
              "      <td>-0.049424</td>\n",
              "      <td>-0.054028</td>\n",
              "      <td>-0.004166</td>\n",
              "      <td>-0.068756</td>\n",
              "      <td>0.052672</td>\n",
              "      <td>-0.076838</td>\n",
              "    </tr>\n",
              "  </tbody>\n",
              "</table>\n",
              "</div>"
            ],
            "text/plain": [
              "   movie_enc         0         1  ...        47        48        49\n",
              "0          0 -0.043691 -0.013777  ... -0.059136  0.051821  0.004704\n",
              "1          1  0.059996  0.078434  ... -0.093360  0.065907 -0.059364\n",
              "2          2 -0.062683 -0.094300  ...  0.022385  0.046509  0.079763\n",
              "3          3  0.079642  0.055858  ... -0.084956  0.072562  0.088051\n",
              "4          4  0.077402 -0.067971  ... -0.068756  0.052672 -0.076838\n",
              "\n",
              "[5 rows x 51 columns]"
            ]
          },
          "metadata": {
            "tags": []
          },
          "execution_count": 41
        }
      ]
    },
    {
      "cell_type": "code",
      "metadata": {
        "id": "Vo0Ks-4z_xBa"
      },
      "source": [
        "# Get Movie to Titles Mapping\n",
        "movie_list = df[['movie_enc','movie_id']].drop_duplicates()\n",
        "movie_titles = movie_list.merge(movie_titles, left_on='movie_id', right_on='movie_id')\n",
        "#movie_titles.head()"
      ],
      "execution_count": null,
      "outputs": []
    },
    {
      "cell_type": "code",
      "metadata": {
        "colab": {
          "base_uri": "https://localhost:8080/",
          "height": 275
        },
        "id": "Z2luVq7J_2zi",
        "outputId": "efeb1494-735c-4068-e51b-d79595fdb954"
      },
      "source": [
        "# Append Titles to Embedding\n",
        "movie_weights_titles_df = movie_weights_df.merge(movie_titles, left_on = 'movie_enc', right_on = 'movie_enc')\n",
        "movie_weights_titles_df.head()"
      ],
      "execution_count": null,
      "outputs": [
        {
          "output_type": "execute_result",
          "data": {
            "text/html": [
              "<div>\n",
              "<style scoped>\n",
              "    .dataframe tbody tr th:only-of-type {\n",
              "        vertical-align: middle;\n",
              "    }\n",
              "\n",
              "    .dataframe tbody tr th {\n",
              "        vertical-align: top;\n",
              "    }\n",
              "\n",
              "    .dataframe thead th {\n",
              "        text-align: right;\n",
              "    }\n",
              "</style>\n",
              "<table border=\"1\" class=\"dataframe\">\n",
              "  <thead>\n",
              "    <tr style=\"text-align: right;\">\n",
              "      <th></th>\n",
              "      <th>movie_enc</th>\n",
              "      <th>0</th>\n",
              "      <th>1</th>\n",
              "      <th>2</th>\n",
              "      <th>3</th>\n",
              "      <th>4</th>\n",
              "      <th>5</th>\n",
              "      <th>6</th>\n",
              "      <th>7</th>\n",
              "      <th>8</th>\n",
              "      <th>9</th>\n",
              "      <th>10</th>\n",
              "      <th>11</th>\n",
              "      <th>12</th>\n",
              "      <th>13</th>\n",
              "      <th>14</th>\n",
              "      <th>15</th>\n",
              "      <th>16</th>\n",
              "      <th>17</th>\n",
              "      <th>18</th>\n",
              "      <th>19</th>\n",
              "      <th>20</th>\n",
              "      <th>21</th>\n",
              "      <th>22</th>\n",
              "      <th>23</th>\n",
              "      <th>24</th>\n",
              "      <th>25</th>\n",
              "      <th>26</th>\n",
              "      <th>27</th>\n",
              "      <th>28</th>\n",
              "      <th>29</th>\n",
              "      <th>30</th>\n",
              "      <th>31</th>\n",
              "      <th>32</th>\n",
              "      <th>33</th>\n",
              "      <th>34</th>\n",
              "      <th>35</th>\n",
              "      <th>36</th>\n",
              "      <th>37</th>\n",
              "      <th>38</th>\n",
              "      <th>39</th>\n",
              "      <th>40</th>\n",
              "      <th>41</th>\n",
              "      <th>42</th>\n",
              "      <th>43</th>\n",
              "      <th>44</th>\n",
              "      <th>45</th>\n",
              "      <th>46</th>\n",
              "      <th>47</th>\n",
              "      <th>48</th>\n",
              "      <th>49</th>\n",
              "      <th>movie_id</th>\n",
              "      <th>year</th>\n",
              "      <th>title</th>\n",
              "    </tr>\n",
              "  </thead>\n",
              "  <tbody>\n",
              "    <tr>\n",
              "      <th>0</th>\n",
              "      <td>0</td>\n",
              "      <td>-0.043691</td>\n",
              "      <td>-0.013777</td>\n",
              "      <td>0.086195</td>\n",
              "      <td>-0.081356</td>\n",
              "      <td>0.056196</td>\n",
              "      <td>-0.088241</td>\n",
              "      <td>0.065024</td>\n",
              "      <td>0.035200</td>\n",
              "      <td>0.097106</td>\n",
              "      <td>-0.038307</td>\n",
              "      <td>0.068024</td>\n",
              "      <td>-0.045379</td>\n",
              "      <td>-0.081011</td>\n",
              "      <td>-0.055961</td>\n",
              "      <td>0.071091</td>\n",
              "      <td>0.055147</td>\n",
              "      <td>0.058951</td>\n",
              "      <td>-0.065277</td>\n",
              "      <td>0.073195</td>\n",
              "      <td>-0.066289</td>\n",
              "      <td>0.039027</td>\n",
              "      <td>-0.044993</td>\n",
              "      <td>0.074100</td>\n",
              "      <td>0.063373</td>\n",
              "      <td>0.058762</td>\n",
              "      <td>0.086080</td>\n",
              "      <td>0.071680</td>\n",
              "      <td>-0.057540</td>\n",
              "      <td>-0.062648</td>\n",
              "      <td>-0.070320</td>\n",
              "      <td>-0.037128</td>\n",
              "      <td>0.047227</td>\n",
              "      <td>0.073495</td>\n",
              "      <td>-0.084647</td>\n",
              "      <td>-0.038082</td>\n",
              "      <td>-0.059576</td>\n",
              "      <td>-0.063834</td>\n",
              "      <td>-0.054333</td>\n",
              "      <td>0.017499</td>\n",
              "      <td>-0.053732</td>\n",
              "      <td>-0.056469</td>\n",
              "      <td>0.036868</td>\n",
              "      <td>-0.064415</td>\n",
              "      <td>-0.093668</td>\n",
              "      <td>-0.066042</td>\n",
              "      <td>-0.088206</td>\n",
              "      <td>0.092578</td>\n",
              "      <td>-0.059136</td>\n",
              "      <td>0.051821</td>\n",
              "      <td>0.004704</td>\n",
              "      <td>3</td>\n",
              "      <td>1997.0</td>\n",
              "      <td>Character</td>\n",
              "    </tr>\n",
              "    <tr>\n",
              "      <th>1</th>\n",
              "      <td>1</td>\n",
              "      <td>0.059996</td>\n",
              "      <td>0.078434</td>\n",
              "      <td>-0.086373</td>\n",
              "      <td>-0.048854</td>\n",
              "      <td>0.076460</td>\n",
              "      <td>-0.052970</td>\n",
              "      <td>0.066444</td>\n",
              "      <td>0.073601</td>\n",
              "      <td>-0.081532</td>\n",
              "      <td>0.072430</td>\n",
              "      <td>-0.036312</td>\n",
              "      <td>0.092168</td>\n",
              "      <td>-0.014161</td>\n",
              "      <td>-0.027793</td>\n",
              "      <td>-0.031619</td>\n",
              "      <td>0.073563</td>\n",
              "      <td>-0.091381</td>\n",
              "      <td>-0.080756</td>\n",
              "      <td>-0.081559</td>\n",
              "      <td>0.084300</td>\n",
              "      <td>-0.065494</td>\n",
              "      <td>0.055993</td>\n",
              "      <td>0.069965</td>\n",
              "      <td>-0.043258</td>\n",
              "      <td>0.004208</td>\n",
              "      <td>-0.090387</td>\n",
              "      <td>0.069343</td>\n",
              "      <td>0.068381</td>\n",
              "      <td>-0.037592</td>\n",
              "      <td>0.047892</td>\n",
              "      <td>-0.093679</td>\n",
              "      <td>0.030689</td>\n",
              "      <td>0.092712</td>\n",
              "      <td>0.049837</td>\n",
              "      <td>0.086031</td>\n",
              "      <td>0.075489</td>\n",
              "      <td>-0.052269</td>\n",
              "      <td>-0.069600</td>\n",
              "      <td>0.024482</td>\n",
              "      <td>-0.057502</td>\n",
              "      <td>-0.079722</td>\n",
              "      <td>0.056487</td>\n",
              "      <td>0.014331</td>\n",
              "      <td>0.072857</td>\n",
              "      <td>-0.033190</td>\n",
              "      <td>-0.056123</td>\n",
              "      <td>0.056328</td>\n",
              "      <td>-0.093360</td>\n",
              "      <td>0.065907</td>\n",
              "      <td>-0.059364</td>\n",
              "      <td>6</td>\n",
              "      <td>1997.0</td>\n",
              "      <td>Sick</td>\n",
              "    </tr>\n",
              "    <tr>\n",
              "      <th>2</th>\n",
              "      <td>2</td>\n",
              "      <td>-0.062683</td>\n",
              "      <td>-0.094300</td>\n",
              "      <td>0.055946</td>\n",
              "      <td>0.072540</td>\n",
              "      <td>-0.038875</td>\n",
              "      <td>0.096794</td>\n",
              "      <td>0.028476</td>\n",
              "      <td>-0.004061</td>\n",
              "      <td>0.103747</td>\n",
              "      <td>-0.073815</td>\n",
              "      <td>-0.043984</td>\n",
              "      <td>-0.029075</td>\n",
              "      <td>-0.048258</td>\n",
              "      <td>-0.026235</td>\n",
              "      <td>0.086158</td>\n",
              "      <td>-0.039873</td>\n",
              "      <td>0.099120</td>\n",
              "      <td>-0.082565</td>\n",
              "      <td>-0.022071</td>\n",
              "      <td>0.056328</td>\n",
              "      <td>0.055118</td>\n",
              "      <td>-0.093970</td>\n",
              "      <td>-0.043942</td>\n",
              "      <td>0.080414</td>\n",
              "      <td>-0.089171</td>\n",
              "      <td>0.070259</td>\n",
              "      <td>0.038158</td>\n",
              "      <td>0.042739</td>\n",
              "      <td>0.037651</td>\n",
              "      <td>-0.039237</td>\n",
              "      <td>0.082662</td>\n",
              "      <td>0.033207</td>\n",
              "      <td>-0.077253</td>\n",
              "      <td>-0.063251</td>\n",
              "      <td>-0.007724</td>\n",
              "      <td>0.085372</td>\n",
              "      <td>0.081631</td>\n",
              "      <td>-0.080396</td>\n",
              "      <td>0.090998</td>\n",
              "      <td>0.067050</td>\n",
              "      <td>0.069556</td>\n",
              "      <td>0.057674</td>\n",
              "      <td>0.071169</td>\n",
              "      <td>-0.070427</td>\n",
              "      <td>0.059899</td>\n",
              "      <td>0.056761</td>\n",
              "      <td>0.053002</td>\n",
              "      <td>0.022385</td>\n",
              "      <td>0.046509</td>\n",
              "      <td>0.079763</td>\n",
              "      <td>8</td>\n",
              "      <td>2004.0</td>\n",
              "      <td>What the #$*! Do We Know!?</td>\n",
              "    </tr>\n",
              "    <tr>\n",
              "      <th>3</th>\n",
              "      <td>3</td>\n",
              "      <td>0.079642</td>\n",
              "      <td>0.055858</td>\n",
              "      <td>-0.071883</td>\n",
              "      <td>-0.064006</td>\n",
              "      <td>0.088921</td>\n",
              "      <td>-0.095575</td>\n",
              "      <td>0.048023</td>\n",
              "      <td>0.056231</td>\n",
              "      <td>-0.076071</td>\n",
              "      <td>0.096595</td>\n",
              "      <td>-0.047954</td>\n",
              "      <td>0.075640</td>\n",
              "      <td>0.046977</td>\n",
              "      <td>0.071419</td>\n",
              "      <td>0.067221</td>\n",
              "      <td>-0.072252</td>\n",
              "      <td>0.080377</td>\n",
              "      <td>-0.055842</td>\n",
              "      <td>-0.061469</td>\n",
              "      <td>-0.077412</td>\n",
              "      <td>-0.093513</td>\n",
              "      <td>0.064272</td>\n",
              "      <td>0.099183</td>\n",
              "      <td>0.084293</td>\n",
              "      <td>-0.094342</td>\n",
              "      <td>-0.063860</td>\n",
              "      <td>0.063212</td>\n",
              "      <td>0.083703</td>\n",
              "      <td>0.065009</td>\n",
              "      <td>-0.071489</td>\n",
              "      <td>-0.078120</td>\n",
              "      <td>0.073449</td>\n",
              "      <td>0.069189</td>\n",
              "      <td>0.087890</td>\n",
              "      <td>0.056686</td>\n",
              "      <td>0.083933</td>\n",
              "      <td>-0.066796</td>\n",
              "      <td>-0.068924</td>\n",
              "      <td>0.088343</td>\n",
              "      <td>-0.059001</td>\n",
              "      <td>0.095216</td>\n",
              "      <td>0.071647</td>\n",
              "      <td>0.077981</td>\n",
              "      <td>0.082587</td>\n",
              "      <td>-0.070516</td>\n",
              "      <td>0.059019</td>\n",
              "      <td>-0.088867</td>\n",
              "      <td>-0.084956</td>\n",
              "      <td>0.072562</td>\n",
              "      <td>0.088051</td>\n",
              "      <td>16</td>\n",
              "      <td>1996.0</td>\n",
              "      <td>Screamers</td>\n",
              "    </tr>\n",
              "    <tr>\n",
              "      <th>4</th>\n",
              "      <td>4</td>\n",
              "      <td>0.077402</td>\n",
              "      <td>-0.067971</td>\n",
              "      <td>0.044632</td>\n",
              "      <td>0.076509</td>\n",
              "      <td>0.061657</td>\n",
              "      <td>0.072377</td>\n",
              "      <td>-0.063812</td>\n",
              "      <td>0.072518</td>\n",
              "      <td>-0.083655</td>\n",
              "      <td>0.096301</td>\n",
              "      <td>0.070331</td>\n",
              "      <td>0.074383</td>\n",
              "      <td>-0.080025</td>\n",
              "      <td>0.093859</td>\n",
              "      <td>0.078044</td>\n",
              "      <td>0.077809</td>\n",
              "      <td>0.083953</td>\n",
              "      <td>0.035850</td>\n",
              "      <td>-0.083521</td>\n",
              "      <td>-0.061158</td>\n",
              "      <td>-0.071767</td>\n",
              "      <td>-0.070321</td>\n",
              "      <td>-0.016887</td>\n",
              "      <td>0.084471</td>\n",
              "      <td>-0.084047</td>\n",
              "      <td>-0.075450</td>\n",
              "      <td>0.054732</td>\n",
              "      <td>0.055356</td>\n",
              "      <td>0.057841</td>\n",
              "      <td>-0.067883</td>\n",
              "      <td>0.047738</td>\n",
              "      <td>-0.054436</td>\n",
              "      <td>0.086381</td>\n",
              "      <td>-0.054917</td>\n",
              "      <td>-0.081786</td>\n",
              "      <td>-0.079017</td>\n",
              "      <td>-0.053924</td>\n",
              "      <td>0.068464</td>\n",
              "      <td>0.071502</td>\n",
              "      <td>0.084720</td>\n",
              "      <td>-0.073913</td>\n",
              "      <td>0.031989</td>\n",
              "      <td>0.069821</td>\n",
              "      <td>0.079048</td>\n",
              "      <td>-0.049424</td>\n",
              "      <td>-0.054028</td>\n",
              "      <td>-0.004166</td>\n",
              "      <td>-0.068756</td>\n",
              "      <td>0.052672</td>\n",
              "      <td>-0.076838</td>\n",
              "      <td>17</td>\n",
              "      <td>2005.0</td>\n",
              "      <td>7 Seconds</td>\n",
              "    </tr>\n",
              "  </tbody>\n",
              "</table>\n",
              "</div>"
            ],
            "text/plain": [
              "   movie_enc         0         1  ...  movie_id    year                       title\n",
              "0          0 -0.043691 -0.013777  ...         3  1997.0                   Character\n",
              "1          1  0.059996  0.078434  ...         6  1997.0                        Sick\n",
              "2          2 -0.062683 -0.094300  ...         8  2004.0  What the #$*! Do We Know!?\n",
              "3          3  0.079642  0.055858  ...        16  1996.0                   Screamers\n",
              "4          4  0.077402 -0.067971  ...        17  2005.0                   7 Seconds\n",
              "\n",
              "[5 rows x 54 columns]"
            ]
          },
          "metadata": {
            "tags": []
          },
          "execution_count": 43
        }
      ]
    },
    {
      "cell_type": "code",
      "metadata": {
        "colab": {
          "base_uri": "https://localhost:8080/"
        },
        "id": "KyX3JidHALT9",
        "outputId": "7909eb26-3547-469d-dc04-571b5d1b045b"
      },
      "source": [
        "top_movies\n"
      ],
      "execution_count": null,
      "outputs": [
        {
          "output_type": "execute_result",
          "data": {
            "text/plain": [
              "movie_id\n",
              "5317     900\n",
              "14313    816\n",
              "15124    807\n",
              "15205    794\n",
              "1905     761\n",
              "        ... \n",
              "1588       2\n",
              "15488      2\n",
              "15489      2\n",
              "15502      2\n",
              "1567       2\n",
              "Name: rating, Length: 10000, dtype: int64"
            ]
          },
          "metadata": {
            "tags": []
          },
          "execution_count": 44
        }
      ]
    },
    {
      "cell_type": "code",
      "metadata": {
        "colab": {
          "base_uri": "https://localhost:8080/",
          "height": 48
        },
        "id": "LdYNwS68A6Y_",
        "outputId": "91d4e1c8-1950-4a7b-fbbb-920280085810"
      },
      "source": [
        "movie_titles[movie_titles.movie_id == 4622]\n"
      ],
      "execution_count": null,
      "outputs": [
        {
          "output_type": "execute_result",
          "data": {
            "text/html": [
              "<div>\n",
              "<style scoped>\n",
              "    .dataframe tbody tr th:only-of-type {\n",
              "        vertical-align: middle;\n",
              "    }\n",
              "\n",
              "    .dataframe tbody tr th {\n",
              "        vertical-align: top;\n",
              "    }\n",
              "\n",
              "    .dataframe thead th {\n",
              "        text-align: right;\n",
              "    }\n",
              "</style>\n",
              "<table border=\"1\" class=\"dataframe\">\n",
              "  <thead>\n",
              "    <tr style=\"text-align: right;\">\n",
              "      <th></th>\n",
              "      <th>movie_enc</th>\n",
              "      <th>movie_id</th>\n",
              "      <th>year</th>\n",
              "      <th>title</th>\n",
              "    </tr>\n",
              "  </thead>\n",
              "  <tbody>\n",
              "  </tbody>\n",
              "</table>\n",
              "</div>"
            ],
            "text/plain": [
              "Empty DataFrame\n",
              "Columns: [movie_enc, movie_id, year, title]\n",
              "Index: []"
            ]
          },
          "metadata": {
            "tags": []
          },
          "execution_count": 45
        }
      ]
    },
    {
      "cell_type": "code",
      "metadata": {
        "id": "Tkztpp2wA_b6"
      },
      "source": [
        "movie_weights_only_df = pd.DataFrame(movie_weights)\n"
      ],
      "execution_count": null,
      "outputs": []
    },
    {
      "cell_type": "code",
      "metadata": {
        "id": "Hg1tNJOQzNOB"
      },
      "source": [
        "# Calculate distances between the specific movie and all other movies\n",
        "from sklearn import preprocessing\n",
        "from sklearn.preprocessing import Normalizer\n",
        "\n",
        "# the_movie_embedding_only_normalized = preprocessing.normalize(np.array(the_movie_embedding_only), norm='l2')\n",
        "movie_weights_only_df.iloc[:,:] = Normalizer(norm='l2').fit_transform(movie_weights_only_df)\n",
        "the_movie_embedding_only_normalized = movie_weights_only_df[movie_weights_only_df.index == 3499]\n",
        "the_movie_dot_product_normalizer = movie_weights_only_df.dot(np.transpose(the_movie_embedding_only_normalized))"
      ],
      "execution_count": null,
      "outputs": []
    },
    {
      "cell_type": "code",
      "metadata": {
        "id": "8LFWyL7rzNRk"
      },
      "source": [
        "recommendation=the_movie_dot_product_normalizer.sort_values(by = 3499, ascending = False).head(15)"
      ],
      "execution_count": null,
      "outputs": []
    },
    {
      "cell_type": "code",
      "metadata": {
        "colab": {
          "base_uri": "https://localhost:8080/",
          "height": 508
        },
        "id": "trws2dsfrpos",
        "outputId": "6b288be1-2968-43fe-8b34-92ceea204b29"
      },
      "source": [
        "recommendation"
      ],
      "execution_count": null,
      "outputs": [
        {
          "output_type": "execute_result",
          "data": {
            "text/html": [
              "<div>\n",
              "<style scoped>\n",
              "    .dataframe tbody tr th:only-of-type {\n",
              "        vertical-align: middle;\n",
              "    }\n",
              "\n",
              "    .dataframe tbody tr th {\n",
              "        vertical-align: top;\n",
              "    }\n",
              "\n",
              "    .dataframe thead th {\n",
              "        text-align: right;\n",
              "    }\n",
              "</style>\n",
              "<table border=\"1\" class=\"dataframe\">\n",
              "  <thead>\n",
              "    <tr style=\"text-align: right;\">\n",
              "      <th></th>\n",
              "      <th>3499</th>\n",
              "    </tr>\n",
              "  </thead>\n",
              "  <tbody>\n",
              "    <tr>\n",
              "      <th>3499</th>\n",
              "      <td>1.000000</td>\n",
              "    </tr>\n",
              "    <tr>\n",
              "      <th>2543</th>\n",
              "      <td>0.986769</td>\n",
              "    </tr>\n",
              "    <tr>\n",
              "      <th>5317</th>\n",
              "      <td>0.985783</td>\n",
              "    </tr>\n",
              "    <tr>\n",
              "      <th>910</th>\n",
              "      <td>0.985355</td>\n",
              "    </tr>\n",
              "    <tr>\n",
              "      <th>38</th>\n",
              "      <td>0.982156</td>\n",
              "    </tr>\n",
              "    <tr>\n",
              "      <th>2399</th>\n",
              "      <td>0.977723</td>\n",
              "    </tr>\n",
              "    <tr>\n",
              "      <th>822</th>\n",
              "      <td>0.964310</td>\n",
              "    </tr>\n",
              "    <tr>\n",
              "      <th>644</th>\n",
              "      <td>0.963340</td>\n",
              "    </tr>\n",
              "    <tr>\n",
              "      <th>4517</th>\n",
              "      <td>0.961406</td>\n",
              "    </tr>\n",
              "    <tr>\n",
              "      <th>3480</th>\n",
              "      <td>0.953721</td>\n",
              "    </tr>\n",
              "    <tr>\n",
              "      <th>5221</th>\n",
              "      <td>0.944211</td>\n",
              "    </tr>\n",
              "    <tr>\n",
              "      <th>4877</th>\n",
              "      <td>0.806668</td>\n",
              "    </tr>\n",
              "    <tr>\n",
              "      <th>3575</th>\n",
              "      <td>0.600944</td>\n",
              "    </tr>\n",
              "    <tr>\n",
              "      <th>3068</th>\n",
              "      <td>0.586981</td>\n",
              "    </tr>\n",
              "    <tr>\n",
              "      <th>195</th>\n",
              "      <td>0.542292</td>\n",
              "    </tr>\n",
              "  </tbody>\n",
              "</table>\n",
              "</div>"
            ],
            "text/plain": [
              "          3499\n",
              "3499  1.000000\n",
              "2543  0.986769\n",
              "5317  0.985783\n",
              "910   0.985355\n",
              "38    0.982156\n",
              "2399  0.977723\n",
              "822   0.964310\n",
              "644   0.963340\n",
              "4517  0.961406\n",
              "3480  0.953721\n",
              "5221  0.944211\n",
              "4877  0.806668\n",
              "3575  0.600944\n",
              "3068  0.586981\n",
              "195   0.542292"
            ]
          },
          "metadata": {
            "tags": []
          },
          "execution_count": 85
        }
      ]
    },
    {
      "cell_type": "code",
      "metadata": {
        "colab": {
          "base_uri": "https://localhost:8080/"
        },
        "id": "rH-xl70TC1pZ",
        "outputId": "bc1cf4f5-1e70-4035-8cb3-a79cbe21e5f0"
      },
      "source": [
        "recommendation.index"
      ],
      "execution_count": null,
      "outputs": [
        {
          "output_type": "execute_result",
          "data": {
            "text/plain": [
              "Int64Index([3499, 2543, 5317,  910,   38, 2399,  822,  644, 4517, 3480, 5221,\n",
              "            4877, 3575, 3068,  195],\n",
              "           dtype='int64')"
            ]
          },
          "metadata": {
            "tags": []
          },
          "execution_count": 88
        }
      ]
    },
    {
      "cell_type": "code",
      "metadata": {
        "id": "2R9tmUsJ77lw"
      },
      "source": [
        "# Get Movieid to Titles Mapping\n",
        "\n",
        "recommendation_list =pd.DataFrame(recommendation.index,columns=['movie_id'])\n",
        "recommendation_titles = recommendation_list.merge(movie_titles, left_on='movie_id', right_on='movie_id')"
      ],
      "execution_count": null,
      "outputs": []
    },
    {
      "cell_type": "code",
      "metadata": {
        "colab": {
          "base_uri": "https://localhost:8080/",
          "height": 232
        },
        "id": "as39s4HSrT65",
        "outputId": "eff2627e-6050-4963-f7be-f43e16aa7de5"
      },
      "source": [
        "recommendation_titles"
      ],
      "execution_count": null,
      "outputs": [
        {
          "output_type": "execute_result",
          "data": {
            "text/html": [
              "<div>\n",
              "<style scoped>\n",
              "    .dataframe tbody tr th:only-of-type {\n",
              "        vertical-align: middle;\n",
              "    }\n",
              "\n",
              "    .dataframe tbody tr th {\n",
              "        vertical-align: top;\n",
              "    }\n",
              "\n",
              "    .dataframe thead th {\n",
              "        text-align: right;\n",
              "    }\n",
              "</style>\n",
              "<table border=\"1\" class=\"dataframe\">\n",
              "  <thead>\n",
              "    <tr style=\"text-align: right;\">\n",
              "      <th></th>\n",
              "      <th>movie_id</th>\n",
              "      <th>movie_enc</th>\n",
              "      <th>year</th>\n",
              "      <th>title</th>\n",
              "    </tr>\n",
              "  </thead>\n",
              "  <tbody>\n",
              "    <tr>\n",
              "      <th>0</th>\n",
              "      <td>5317</td>\n",
              "      <td>1669</td>\n",
              "      <td>2000.0</td>\n",
              "      <td>Miss Congeniality</td>\n",
              "    </tr>\n",
              "    <tr>\n",
              "      <th>1</th>\n",
              "      <td>38</td>\n",
              "      <td>13</td>\n",
              "      <td>2003.0</td>\n",
              "      <td>Daydream Obsession</td>\n",
              "    </tr>\n",
              "    <tr>\n",
              "      <th>2</th>\n",
              "      <td>822</td>\n",
              "      <td>256</td>\n",
              "      <td>2001.0</td>\n",
              "      <td>Star Trek: Enterprise: Season 1</td>\n",
              "    </tr>\n",
              "    <tr>\n",
              "      <th>3</th>\n",
              "      <td>4517</td>\n",
              "      <td>1422</td>\n",
              "      <td>1997.0</td>\n",
              "      <td>Mimic</td>\n",
              "    </tr>\n",
              "    <tr>\n",
              "      <th>4</th>\n",
              "      <td>3480</td>\n",
              "      <td>1094</td>\n",
              "      <td>1990.0</td>\n",
              "      <td>Narrow Margin</td>\n",
              "    </tr>\n",
              "    <tr>\n",
              "      <th>5</th>\n",
              "      <td>4877</td>\n",
              "      <td>1537</td>\n",
              "      <td>2004.0</td>\n",
              "      <td>Simpsons Gone Wild</td>\n",
              "    </tr>\n",
              "  </tbody>\n",
              "</table>\n",
              "</div>"
            ],
            "text/plain": [
              "   movie_id  movie_enc    year                            title\n",
              "0      5317       1669  2000.0                Miss Congeniality\n",
              "1        38         13  2003.0               Daydream Obsession\n",
              "2       822        256  2001.0  Star Trek: Enterprise: Season 1\n",
              "3      4517       1422  1997.0                            Mimic\n",
              "4      3480       1094  1990.0                    Narrow Margin\n",
              "5      4877       1537  2004.0               Simpsons Gone Wild"
            ]
          },
          "metadata": {
            "tags": []
          },
          "execution_count": 90
        }
      ]
    },
    {
      "cell_type": "code",
      "metadata": {
        "id": "tpAM1p22vOai"
      },
      "source": [
        ""
      ],
      "execution_count": null,
      "outputs": []
    },
    {
      "cell_type": "markdown",
      "metadata": {
        "id": "8i1Rr7O4vRTb"
      },
      "source": [
        "**PCA**"
      ]
    },
    {
      "cell_type": "code",
      "metadata": {
        "id": "Jr37T4NkT4Q8"
      },
      "source": [
        "movie_genre = pd.merge(movie_titles, imdb_df, how = 'inner', left_on = 'title', right_on = 'title')\n",
        "movie_genre_df = movie_genre[['movie_enc', 'movie_id', 'year_x', 'title', 'director', 'genre']]\n"
      ],
      "execution_count": null,
      "outputs": []
    },
    {
      "cell_type": "code",
      "metadata": {
        "id": "qw4LDKX9cQ1w"
      },
      "source": [
        "from sklearn.decomposition import PCA\n",
        "pca = PCA(n_components=2)\n",
        "movie_weights_only_pca = pca.fit_transform(movie_weights_only_df)"
      ],
      "execution_count": null,
      "outputs": []
    },
    {
      "cell_type": "code",
      "metadata": {
        "colab": {
          "base_uri": "https://localhost:8080/"
        },
        "id": "ttlbApoUzMUP",
        "outputId": "ce4920f2-db35-4337-c72c-3fe1416c1140"
      },
      "source": [
        "movie_weights_only_pca"
      ],
      "execution_count": null,
      "outputs": [
        {
          "output_type": "execute_result",
          "data": {
            "text/plain": [
              "array([[-0.11871163, -0.13888068],\n",
              "       [ 0.17214124, -0.12674442],\n",
              "       [-0.06813673, -0.25267398],\n",
              "       ...,\n",
              "       [ 0.23481002,  0.20236744],\n",
              "       [-0.17797291,  0.14375664],\n",
              "       [ 0.32973942,  0.24910417]], dtype=float32)"
            ]
          },
          "metadata": {
            "tags": []
          },
          "execution_count": 54
        }
      ]
    },
    {
      "cell_type": "code",
      "metadata": {
        "colab": {
          "base_uri": "https://localhost:8080/"
        },
        "id": "QKsWDKNacQ5I",
        "outputId": "8025b604-45c0-4121-98d1-effcbfc58e36"
      },
      "source": [
        "pca.explained_variance_ratio_\n"
      ],
      "execution_count": null,
      "outputs": [
        {
          "output_type": "execute_result",
          "data": {
            "text/plain": [
              "array([0.03188389, 0.03095546], dtype=float32)"
            ]
          },
          "metadata": {
            "tags": []
          },
          "execution_count": 55
        }
      ]
    },
    {
      "cell_type": "code",
      "metadata": {
        "id": "eEHalb6_cQ77"
      },
      "source": [
        "movie_weights_only_pca_df = pd.DataFrame(movie_weights_only_pca)\n",
        "movie_weights_only_pca_df = pd.DataFrame(movie_weights_only_pca_df).reset_index()\n",
        "movie_weights_only_pca_df.rename(columns={'index':'movie_enc'}, inplace=True)"
      ],
      "execution_count": null,
      "outputs": []
    },
    {
      "cell_type": "code",
      "metadata": {
        "colab": {
          "base_uri": "https://localhost:8080/",
          "height": 414
        },
        "id": "i7H4osf4cQ_E",
        "outputId": "9a3a73b1-082f-4fe1-abcd-747e06e50ac7"
      },
      "source": [
        "movie_weights_only_pca_df\n"
      ],
      "execution_count": null,
      "outputs": [
        {
          "output_type": "execute_result",
          "data": {
            "text/html": [
              "<div>\n",
              "<style scoped>\n",
              "    .dataframe tbody tr th:only-of-type {\n",
              "        vertical-align: middle;\n",
              "    }\n",
              "\n",
              "    .dataframe tbody tr th {\n",
              "        vertical-align: top;\n",
              "    }\n",
              "\n",
              "    .dataframe thead th {\n",
              "        text-align: right;\n",
              "    }\n",
              "</style>\n",
              "<table border=\"1\" class=\"dataframe\">\n",
              "  <thead>\n",
              "    <tr style=\"text-align: right;\">\n",
              "      <th></th>\n",
              "      <th>movie_enc</th>\n",
              "      <th>0</th>\n",
              "      <th>1</th>\n",
              "    </tr>\n",
              "  </thead>\n",
              "  <tbody>\n",
              "    <tr>\n",
              "      <th>0</th>\n",
              "      <td>0</td>\n",
              "      <td>-0.118712</td>\n",
              "      <td>-0.138881</td>\n",
              "    </tr>\n",
              "    <tr>\n",
              "      <th>1</th>\n",
              "      <td>1</td>\n",
              "      <td>0.172141</td>\n",
              "      <td>-0.126744</td>\n",
              "    </tr>\n",
              "    <tr>\n",
              "      <th>2</th>\n",
              "      <td>2</td>\n",
              "      <td>-0.068137</td>\n",
              "      <td>-0.252674</td>\n",
              "    </tr>\n",
              "    <tr>\n",
              "      <th>3</th>\n",
              "      <td>3</td>\n",
              "      <td>0.233650</td>\n",
              "      <td>-0.155160</td>\n",
              "    </tr>\n",
              "    <tr>\n",
              "      <th>4</th>\n",
              "      <td>4</td>\n",
              "      <td>0.212272</td>\n",
              "      <td>-0.004669</td>\n",
              "    </tr>\n",
              "    <tr>\n",
              "      <th>...</th>\n",
              "      <td>...</td>\n",
              "      <td>...</td>\n",
              "      <td>...</td>\n",
              "    </tr>\n",
              "    <tr>\n",
              "      <th>5654</th>\n",
              "      <td>5654</td>\n",
              "      <td>-0.018999</td>\n",
              "      <td>0.288551</td>\n",
              "    </tr>\n",
              "    <tr>\n",
              "      <th>5655</th>\n",
              "      <td>5655</td>\n",
              "      <td>-0.134860</td>\n",
              "      <td>0.170062</td>\n",
              "    </tr>\n",
              "    <tr>\n",
              "      <th>5656</th>\n",
              "      <td>5656</td>\n",
              "      <td>0.234810</td>\n",
              "      <td>0.202367</td>\n",
              "    </tr>\n",
              "    <tr>\n",
              "      <th>5657</th>\n",
              "      <td>5657</td>\n",
              "      <td>-0.177973</td>\n",
              "      <td>0.143757</td>\n",
              "    </tr>\n",
              "    <tr>\n",
              "      <th>5658</th>\n",
              "      <td>5658</td>\n",
              "      <td>0.329739</td>\n",
              "      <td>0.249104</td>\n",
              "    </tr>\n",
              "  </tbody>\n",
              "</table>\n",
              "<p>5659 rows × 3 columns</p>\n",
              "</div>"
            ],
            "text/plain": [
              "      movie_enc         0         1\n",
              "0             0 -0.118712 -0.138881\n",
              "1             1  0.172141 -0.126744\n",
              "2             2 -0.068137 -0.252674\n",
              "3             3  0.233650 -0.155160\n",
              "4             4  0.212272 -0.004669\n",
              "...         ...       ...       ...\n",
              "5654       5654 -0.018999  0.288551\n",
              "5655       5655 -0.134860  0.170062\n",
              "5656       5656  0.234810  0.202367\n",
              "5657       5657 -0.177973  0.143757\n",
              "5658       5658  0.329739  0.249104\n",
              "\n",
              "[5659 rows x 3 columns]"
            ]
          },
          "metadata": {
            "tags": []
          },
          "execution_count": 57
        }
      ]
    },
    {
      "cell_type": "code",
      "metadata": {
        "id": "IJkKKQTqcRB9"
      },
      "source": [
        "movie_genre = pd.merge(movie_titles, imdb_df, how = 'inner', left_on = 'title', right_on = 'title')\n",
        "movie_genre_df = movie_genre[['movie_enc', 'movie_id', 'year_x', 'title', 'director', 'genre']]\n",
        "# movie_genre_df.head()"
      ],
      "execution_count": null,
      "outputs": []
    },
    {
      "cell_type": "code",
      "metadata": {
        "id": "Lgub7JFFcRFI"
      },
      "source": [
        "movie_pca_genre = movie_weights_only_pca_df.merge(movie_genre_df, left_on = 'movie_enc', right_on = 'movie_enc')"
      ],
      "execution_count": null,
      "outputs": []
    },
    {
      "cell_type": "code",
      "metadata": {
        "id": "Kipcw2cmcRIV"
      },
      "source": [
        "movie_pca_genre.rename(columns={0:'pca_0'}, inplace=True)\n",
        "movie_pca_genre.rename(columns={1:'pca_1'}, inplace=True)"
      ],
      "execution_count": null,
      "outputs": []
    },
    {
      "cell_type": "code",
      "metadata": {
        "colab": {
          "base_uri": "https://localhost:8080/",
          "height": 202
        },
        "id": "huQvvhRogWlM",
        "outputId": "5eb0bb1a-6de5-4d08-d79b-f32f3c6b8d3b"
      },
      "source": [
        "movie_pca_genre.head()\n"
      ],
      "execution_count": null,
      "outputs": [
        {
          "output_type": "execute_result",
          "data": {
            "text/html": [
              "<div>\n",
              "<style scoped>\n",
              "    .dataframe tbody tr th:only-of-type {\n",
              "        vertical-align: middle;\n",
              "    }\n",
              "\n",
              "    .dataframe tbody tr th {\n",
              "        vertical-align: top;\n",
              "    }\n",
              "\n",
              "    .dataframe thead th {\n",
              "        text-align: right;\n",
              "    }\n",
              "</style>\n",
              "<table border=\"1\" class=\"dataframe\">\n",
              "  <thead>\n",
              "    <tr style=\"text-align: right;\">\n",
              "      <th></th>\n",
              "      <th>movie_enc</th>\n",
              "      <th>pca_0</th>\n",
              "      <th>pca_1</th>\n",
              "      <th>movie_id</th>\n",
              "      <th>year_x</th>\n",
              "      <th>title</th>\n",
              "      <th>director</th>\n",
              "      <th>genre</th>\n",
              "    </tr>\n",
              "  </thead>\n",
              "  <tbody>\n",
              "    <tr>\n",
              "      <th>0</th>\n",
              "      <td>1</td>\n",
              "      <td>0.172141</td>\n",
              "      <td>-0.126744</td>\n",
              "      <td>6</td>\n",
              "      <td>1997.0</td>\n",
              "      <td>Sick</td>\n",
              "      <td>Ryan M. Andrews</td>\n",
              "      <td>Horror, Sci-Fi</td>\n",
              "    </tr>\n",
              "    <tr>\n",
              "      <th>1</th>\n",
              "      <td>9</td>\n",
              "      <td>-0.205659</td>\n",
              "      <td>0.262043</td>\n",
              "      <td>26</td>\n",
              "      <td>2004.0</td>\n",
              "      <td>Never Die Alone</td>\n",
              "      <td>Ernest R. Dickerson</td>\n",
              "      <td>Action, Crime, Drama</td>\n",
              "    </tr>\n",
              "    <tr>\n",
              "      <th>2</th>\n",
              "      <td>17</td>\n",
              "      <td>-0.149915</td>\n",
              "      <td>-0.029919</td>\n",
              "      <td>55</td>\n",
              "      <td>1995.0</td>\n",
              "      <td>Jade</td>\n",
              "      <td>William Friedkin</td>\n",
              "      <td>Crime, Drama, Thriller</td>\n",
              "    </tr>\n",
              "    <tr>\n",
              "      <th>3</th>\n",
              "      <td>18</td>\n",
              "      <td>0.389500</td>\n",
              "      <td>0.059447</td>\n",
              "      <td>56</td>\n",
              "      <td>2004.0</td>\n",
              "      <td>Carandiru</td>\n",
              "      <td>Hector Babenco</td>\n",
              "      <td>Drama, Crime</td>\n",
              "    </tr>\n",
              "    <tr>\n",
              "      <th>4</th>\n",
              "      <td>19</td>\n",
              "      <td>-0.019003</td>\n",
              "      <td>0.092540</td>\n",
              "      <td>57</td>\n",
              "      <td>1995.0</td>\n",
              "      <td>Richard III</td>\n",
              "      <td>André Calmettes, James Keane</td>\n",
              "      <td>Drama</td>\n",
              "    </tr>\n",
              "  </tbody>\n",
              "</table>\n",
              "</div>"
            ],
            "text/plain": [
              "   movie_enc     pca_0  ...                      director                   genre\n",
              "0          1  0.172141  ...               Ryan M. Andrews          Horror, Sci-Fi\n",
              "1          9 -0.205659  ...           Ernest R. Dickerson    Action, Crime, Drama\n",
              "2         17 -0.149915  ...              William Friedkin  Crime, Drama, Thriller\n",
              "3         18  0.389500  ...                Hector Babenco            Drama, Crime\n",
              "4         19 -0.019003  ...  André Calmettes, James Keane                   Drama\n",
              "\n",
              "[5 rows x 8 columns]"
            ]
          },
          "metadata": {
            "tags": []
          },
          "execution_count": 61
        }
      ]
    },
    {
      "cell_type": "code",
      "metadata": {
        "colab": {
          "base_uri": "https://localhost:8080/"
        },
        "id": "aJ6BCCDTcRLm",
        "outputId": "53757ddf-d5bb-475d-98c1-85360d381ea0"
      },
      "source": [
        "movie_pca_genre.groupby('genre').count()['movie_enc'].sort_values(ascending=False)\n",
        "# movie_pca_genre.genre"
      ],
      "execution_count": null,
      "outputs": [
        {
          "output_type": "execute_result",
          "data": {
            "text/plain": [
              "genre\n",
              "Drama                          151\n",
              "Drama, Romance                  88\n",
              "Comedy, Drama, Romance          82\n",
              "Comedy                          64\n",
              "Comedy, Drama                   61\n",
              "                              ... \n",
              "Adventure, Horror, Mystery       1\n",
              "Comedy, Family                   1\n",
              "Adventure, Horror, Thriller      1\n",
              "Adventure, Romance               1\n",
              "Comedy, Mystery, Romance         1\n",
              "Name: movie_enc, Length: 289, dtype: int64"
            ]
          },
          "metadata": {
            "tags": []
          },
          "execution_count": 62
        }
      ]
    },
    {
      "cell_type": "code",
      "metadata": {
        "colab": {
          "base_uri": "https://localhost:8080/",
          "height": 202
        },
        "id": "zUZUg8dkcROd",
        "outputId": "6a600533-4500-4f08-8d07-c4e8e5e84320"
      },
      "source": [
        "new = movie_pca_genre[\"genre\"].str.split(\", \", n = 1, expand = True)\n",
        "movie_pca_genre['new_genre'] = new[0]\n",
        "movie_pca_genre.head()"
      ],
      "execution_count": null,
      "outputs": [
        {
          "output_type": "execute_result",
          "data": {
            "text/html": [
              "<div>\n",
              "<style scoped>\n",
              "    .dataframe tbody tr th:only-of-type {\n",
              "        vertical-align: middle;\n",
              "    }\n",
              "\n",
              "    .dataframe tbody tr th {\n",
              "        vertical-align: top;\n",
              "    }\n",
              "\n",
              "    .dataframe thead th {\n",
              "        text-align: right;\n",
              "    }\n",
              "</style>\n",
              "<table border=\"1\" class=\"dataframe\">\n",
              "  <thead>\n",
              "    <tr style=\"text-align: right;\">\n",
              "      <th></th>\n",
              "      <th>movie_enc</th>\n",
              "      <th>pca_0</th>\n",
              "      <th>pca_1</th>\n",
              "      <th>movie_id</th>\n",
              "      <th>year_x</th>\n",
              "      <th>title</th>\n",
              "      <th>director</th>\n",
              "      <th>genre</th>\n",
              "      <th>new_genre</th>\n",
              "    </tr>\n",
              "  </thead>\n",
              "  <tbody>\n",
              "    <tr>\n",
              "      <th>0</th>\n",
              "      <td>1</td>\n",
              "      <td>0.172141</td>\n",
              "      <td>-0.126744</td>\n",
              "      <td>6</td>\n",
              "      <td>1997.0</td>\n",
              "      <td>Sick</td>\n",
              "      <td>Ryan M. Andrews</td>\n",
              "      <td>Horror, Sci-Fi</td>\n",
              "      <td>Horror</td>\n",
              "    </tr>\n",
              "    <tr>\n",
              "      <th>1</th>\n",
              "      <td>9</td>\n",
              "      <td>-0.205659</td>\n",
              "      <td>0.262043</td>\n",
              "      <td>26</td>\n",
              "      <td>2004.0</td>\n",
              "      <td>Never Die Alone</td>\n",
              "      <td>Ernest R. Dickerson</td>\n",
              "      <td>Action, Crime, Drama</td>\n",
              "      <td>Action</td>\n",
              "    </tr>\n",
              "    <tr>\n",
              "      <th>2</th>\n",
              "      <td>17</td>\n",
              "      <td>-0.149915</td>\n",
              "      <td>-0.029919</td>\n",
              "      <td>55</td>\n",
              "      <td>1995.0</td>\n",
              "      <td>Jade</td>\n",
              "      <td>William Friedkin</td>\n",
              "      <td>Crime, Drama, Thriller</td>\n",
              "      <td>Crime</td>\n",
              "    </tr>\n",
              "    <tr>\n",
              "      <th>3</th>\n",
              "      <td>18</td>\n",
              "      <td>0.389500</td>\n",
              "      <td>0.059447</td>\n",
              "      <td>56</td>\n",
              "      <td>2004.0</td>\n",
              "      <td>Carandiru</td>\n",
              "      <td>Hector Babenco</td>\n",
              "      <td>Drama, Crime</td>\n",
              "      <td>Drama</td>\n",
              "    </tr>\n",
              "    <tr>\n",
              "      <th>4</th>\n",
              "      <td>19</td>\n",
              "      <td>-0.019003</td>\n",
              "      <td>0.092540</td>\n",
              "      <td>57</td>\n",
              "      <td>1995.0</td>\n",
              "      <td>Richard III</td>\n",
              "      <td>André Calmettes, James Keane</td>\n",
              "      <td>Drama</td>\n",
              "      <td>Drama</td>\n",
              "    </tr>\n",
              "  </tbody>\n",
              "</table>\n",
              "</div>"
            ],
            "text/plain": [
              "   movie_enc     pca_0  ...                   genre  new_genre\n",
              "0          1  0.172141  ...          Horror, Sci-Fi     Horror\n",
              "1          9 -0.205659  ...    Action, Crime, Drama     Action\n",
              "2         17 -0.149915  ...  Crime, Drama, Thriller      Crime\n",
              "3         18  0.389500  ...            Drama, Crime      Drama\n",
              "4         19 -0.019003  ...                   Drama      Drama\n",
              "\n",
              "[5 rows x 9 columns]"
            ]
          },
          "metadata": {
            "tags": []
          },
          "execution_count": 63
        }
      ]
    },
    {
      "cell_type": "code",
      "metadata": {
        "id": "my5Z1LPzcRSD"
      },
      "source": [
        "\n",
        "#sample_data = movie_pca_genre[movie_pca_genre.new_genre.isin(['Horror', 'Action', 'Musical','Drama','Thriller','Crime'])]\n",
        "sample_data = movie_pca_genre[movie_pca_genre.new_genre.isin([ 'Crime','Horror'])]"
      ],
      "execution_count": null,
      "outputs": []
    },
    {
      "cell_type": "code",
      "metadata": {
        "colab": {
          "base_uri": "https://localhost:8080/",
          "height": 414
        },
        "id": "90SsTUmf2mEd",
        "outputId": "24f1aede-c362-4454-fa86-6ea16d5797dc"
      },
      "source": [
        "sample_data"
      ],
      "execution_count": null,
      "outputs": [
        {
          "output_type": "execute_result",
          "data": {
            "text/html": [
              "<div>\n",
              "<style scoped>\n",
              "    .dataframe tbody tr th:only-of-type {\n",
              "        vertical-align: middle;\n",
              "    }\n",
              "\n",
              "    .dataframe tbody tr th {\n",
              "        vertical-align: top;\n",
              "    }\n",
              "\n",
              "    .dataframe thead th {\n",
              "        text-align: right;\n",
              "    }\n",
              "</style>\n",
              "<table border=\"1\" class=\"dataframe\">\n",
              "  <thead>\n",
              "    <tr style=\"text-align: right;\">\n",
              "      <th></th>\n",
              "      <th>movie_enc</th>\n",
              "      <th>pca_0</th>\n",
              "      <th>pca_1</th>\n",
              "      <th>movie_id</th>\n",
              "      <th>year_x</th>\n",
              "      <th>title</th>\n",
              "      <th>director</th>\n",
              "      <th>genre</th>\n",
              "      <th>new_genre</th>\n",
              "    </tr>\n",
              "  </thead>\n",
              "  <tbody>\n",
              "    <tr>\n",
              "      <th>0</th>\n",
              "      <td>1</td>\n",
              "      <td>0.172141</td>\n",
              "      <td>-0.126744</td>\n",
              "      <td>6</td>\n",
              "      <td>1997.0</td>\n",
              "      <td>Sick</td>\n",
              "      <td>Ryan M. Andrews</td>\n",
              "      <td>Horror, Sci-Fi</td>\n",
              "      <td>Horror</td>\n",
              "    </tr>\n",
              "    <tr>\n",
              "      <th>2</th>\n",
              "      <td>17</td>\n",
              "      <td>-0.149915</td>\n",
              "      <td>-0.029919</td>\n",
              "      <td>55</td>\n",
              "      <td>1995.0</td>\n",
              "      <td>Jade</td>\n",
              "      <td>William Friedkin</td>\n",
              "      <td>Crime, Drama, Thriller</td>\n",
              "      <td>Crime</td>\n",
              "    </tr>\n",
              "    <tr>\n",
              "      <th>11</th>\n",
              "      <td>36</td>\n",
              "      <td>-0.011892</td>\n",
              "      <td>0.072749</td>\n",
              "      <td>143</td>\n",
              "      <td>1997.0</td>\n",
              "      <td>The Game</td>\n",
              "      <td>Bill Rebane</td>\n",
              "      <td>Horror</td>\n",
              "      <td>Horror</td>\n",
              "    </tr>\n",
              "    <tr>\n",
              "      <th>20</th>\n",
              "      <td>81</td>\n",
              "      <td>0.114445</td>\n",
              "      <td>-0.084945</td>\n",
              "      <td>273</td>\n",
              "      <td>2004.0</td>\n",
              "      <td>Taxi</td>\n",
              "      <td>Roy Del Ruth</td>\n",
              "      <td>Crime, Drama, Romance</td>\n",
              "      <td>Crime</td>\n",
              "    </tr>\n",
              "    <tr>\n",
              "      <th>21</th>\n",
              "      <td>81</td>\n",
              "      <td>0.114445</td>\n",
              "      <td>-0.084945</td>\n",
              "      <td>273</td>\n",
              "      <td>2004.0</td>\n",
              "      <td>Taxi</td>\n",
              "      <td>Carlos Saura</td>\n",
              "      <td>Crime, Drama, Romance</td>\n",
              "      <td>Crime</td>\n",
              "    </tr>\n",
              "    <tr>\n",
              "      <th>...</th>\n",
              "      <td>...</td>\n",
              "      <td>...</td>\n",
              "      <td>...</td>\n",
              "      <td>...</td>\n",
              "      <td>...</td>\n",
              "      <td>...</td>\n",
              "      <td>...</td>\n",
              "      <td>...</td>\n",
              "      <td>...</td>\n",
              "    </tr>\n",
              "    <tr>\n",
              "      <th>1712</th>\n",
              "      <td>5556</td>\n",
              "      <td>0.116611</td>\n",
              "      <td>0.284872</td>\n",
              "      <td>17479</td>\n",
              "      <td>2002.0</td>\n",
              "      <td>The Ring</td>\n",
              "      <td>Hideo Nakata</td>\n",
              "      <td>Horror, Mystery</td>\n",
              "      <td>Horror</td>\n",
              "    </tr>\n",
              "    <tr>\n",
              "      <th>1713</th>\n",
              "      <td>5556</td>\n",
              "      <td>0.116611</td>\n",
              "      <td>0.284872</td>\n",
              "      <td>17479</td>\n",
              "      <td>2002.0</td>\n",
              "      <td>The Ring</td>\n",
              "      <td>Gore Verbinski</td>\n",
              "      <td>Horror, Mystery</td>\n",
              "      <td>Horror</td>\n",
              "    </tr>\n",
              "    <tr>\n",
              "      <th>1722</th>\n",
              "      <td>5589</td>\n",
              "      <td>0.025031</td>\n",
              "      <td>-0.187505</td>\n",
              "      <td>17563</td>\n",
              "      <td>1962.0</td>\n",
              "      <td>Lolita</td>\n",
              "      <td>Stanley Kubrick</td>\n",
              "      <td>Crime, Drama, Romance</td>\n",
              "      <td>Crime</td>\n",
              "    </tr>\n",
              "    <tr>\n",
              "      <th>1727</th>\n",
              "      <td>5613</td>\n",
              "      <td>0.119778</td>\n",
              "      <td>-0.403477</td>\n",
              "      <td>17631</td>\n",
              "      <td>1964.0</td>\n",
              "      <td>Zulu</td>\n",
              "      <td>Jérôme Salle</td>\n",
              "      <td>Crime, Drama, Thriller</td>\n",
              "      <td>Crime</td>\n",
              "    </tr>\n",
              "    <tr>\n",
              "      <th>1729</th>\n",
              "      <td>5630</td>\n",
              "      <td>-0.007711</td>\n",
              "      <td>-0.132665</td>\n",
              "      <td>17674</td>\n",
              "      <td>1997.0</td>\n",
              "      <td>Cure</td>\n",
              "      <td>Kiyoshi Kurosawa</td>\n",
              "      <td>Crime, Horror, Mystery</td>\n",
              "      <td>Crime</td>\n",
              "    </tr>\n",
              "  </tbody>\n",
              "</table>\n",
              "<p>242 rows × 9 columns</p>\n",
              "</div>"
            ],
            "text/plain": [
              "      movie_enc     pca_0  ...                   genre  new_genre\n",
              "0             1  0.172141  ...          Horror, Sci-Fi     Horror\n",
              "2            17 -0.149915  ...  Crime, Drama, Thriller      Crime\n",
              "11           36 -0.011892  ...                  Horror     Horror\n",
              "20           81  0.114445  ...   Crime, Drama, Romance      Crime\n",
              "21           81  0.114445  ...   Crime, Drama, Romance      Crime\n",
              "...         ...       ...  ...                     ...        ...\n",
              "1712       5556  0.116611  ...         Horror, Mystery     Horror\n",
              "1713       5556  0.116611  ...         Horror, Mystery     Horror\n",
              "1722       5589  0.025031  ...   Crime, Drama, Romance      Crime\n",
              "1727       5613  0.119778  ...  Crime, Drama, Thriller      Crime\n",
              "1729       5630 -0.007711  ...  Crime, Horror, Mystery      Crime\n",
              "\n",
              "[242 rows x 9 columns]"
            ]
          },
          "metadata": {
            "tags": []
          },
          "execution_count": 74
        }
      ]
    },
    {
      "cell_type": "code",
      "metadata": {
        "colab": {
          "base_uri": "https://localhost:8080/",
          "height": 611
        },
        "id": "QHK1Of9xcRVf",
        "outputId": "ce002796-4a5b-45d9-fda9-bebf8da280c8"
      },
      "source": [
        "\n",
        "import seaborn as sns; sns.set()\n",
        "import matplotlib.pyplot as plt\n",
        "\n",
        "plt.figure(figsize=(20,10))\n",
        "ax = sns.scatterplot(x = movie_pca_genre['pca_0'], y = movie_pca_genre['pca_1'], hue = \"new_genre\", data = sample_data)"
      ],
      "execution_count": null,
      "outputs": [
        {
          "output_type": "display_data",
          "data": {
            "image/png": "[encoded data removed]",
            "text/plain": [
              "<Figure size 1440x720 with 1 Axes>"
            ]
          },
          "metadata": {
            "tags": []
          }
        }
      ]
    },
    {
      "cell_type": "code",
      "metadata": {
        "id": "3a9NhL_N1yGH"
      },
      "source": [
        ""
      ],
      "execution_count": null,
      "outputs": []
    }
  ]
}